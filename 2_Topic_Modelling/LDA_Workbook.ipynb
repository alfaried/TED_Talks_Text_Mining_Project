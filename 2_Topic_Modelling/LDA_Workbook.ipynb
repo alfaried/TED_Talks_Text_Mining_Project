{
 "cells": [
  {
   "cell_type": "markdown",
   "metadata": {},
   "source": [
    "# LDA Clustering"
   ]
  },
  {
   "cell_type": "markdown",
   "metadata": {},
   "source": [
    "## Importing of Libraries\n",
    "Run this as a seperate cell in order to reduce latency"
   ]
  },
  {
   "cell_type": "code",
   "execution_count": 1,
   "metadata": {},
   "outputs": [],
   "source": [
    "from gensim.models import CoherenceModel\n",
    "\n",
    "import matplotlib.pyplot as plt\n",
    "import datetime\n",
    "import gensim\n",
    "import nltk\n",
    "import re\n",
    "import os"
   ]
  },
  {
   "cell_type": "markdown",
   "metadata": {},
   "source": [
    "## Pre-Processing\n",
    "Loading of training data, removing of stop words from dataset and stemming as well. Additionally, will be converting those words into vector to fit it into the model"
   ]
  },
  {
   "cell_type": "code",
   "execution_count": 2,
   "metadata": {},
   "outputs": [],
   "source": [
    "# Gets list of stop words and stemmer object\n",
    "stop_list = nltk.corpus.stopwords.words(\"english\")\n",
    "stemmer = nltk.stem.porter.PorterStemmer()"
   ]
  },
  {
   "cell_type": "code",
   "execution_count": 3,
   "metadata": {},
   "outputs": [],
   "source": [
    "# Converts text files into a corpus\n",
    "train_corpus = nltk.corpus.PlaintextCorpusReader(\"./TrainTest_Transcripts/Train/\", \".+\\.txt\")"
   ]
  },
  {
   "cell_type": "code",
   "execution_count": 4,
   "metadata": {},
   "outputs": [],
   "source": [
    "# Converts corpus into a list of documents\n",
    "fids = train_corpus.fileids()\n",
    "docs1 = []\n",
    "for fid in fids:\n",
    "    doc_raw = train_corpus.raw(fid)\n",
    "    doc = nltk.word_tokenize(doc_raw)\n",
    "    docs1.append(doc)\n",
    "docs2 = [[w.lower() for w in doc] for doc in docs1]\n",
    "docs3 = [[w for w in doc if re.search('^[a-z]+$', w)] for doc in docs2]\n",
    "docs4 = [[w for w in doc if w not in stop_list] for doc in docs3]\n",
    "train_docs = [[stemmer.stem(w) for w in doc] for doc in docs4]"
   ]
  },
  {
   "cell_type": "code",
   "execution_count": 5,
   "metadata": {},
   "outputs": [],
   "source": [
    "# Creates a dictionary for bag-of-words purposes\n",
    "train_dictionary = gensim.corpora.Dictionary(train_docs)\n",
    "\n",
    "# Convert the list of documents into vectors\n",
    "train_vecs = [train_dictionary.doc2bow(doc) for doc in train_docs]"
   ]
  },
  {
   "cell_type": "markdown",
   "metadata": {},
   "source": [
    "## Determining optimal K \n",
    "Will be using the coherence score (avereage distance between words) to determine the optimal K for the LDA mallet model.\n",
    "\n",
    "Choosing a ‘k’ that marks the end of a rapid growth of topic coherence usually offers meaningful and interpretable topics. Picking an even higher value can sometimes provide more granular sub-topics.\n",
    "\n",
    "If you see the same keywords being repeated in multiple topics, it’s probably a sign that the ‘k’ is too large."
   ]
  },
  {
   "cell_type": "code",
   "execution_count": 6,
   "metadata": {},
   "outputs": [],
   "source": [
    "# Importing of external library; mallet\n",
    "os.environ.update({'MALLET_HOME':r'./libs/mallet-2.0.8/'})\n",
    "mallet_path = r'./libs/mallet-2.0.8/bin/mallet'"
   ]
  },
  {
   "cell_type": "code",
   "execution_count": 7,
   "metadata": {},
   "outputs": [],
   "source": [
    "start_time = datetime.datetime.now()"
   ]
  },
  {
   "cell_type": "code",
   "execution_count": 8,
   "metadata": {},
   "outputs": [
    {
     "name": "stdout",
     "output_type": "stream",
     "text": [
      "#Topics: 2, Score: 0.2581912664404484\n",
      "#Topics: 4, Score: 0.29497919069894873\n",
      "#Topics: 6, Score: 0.351724017969341\n",
      "#Topics: 8, Score: 0.3567327904385763\n",
      "#Topics: 10, Score: 0.37204398698380675\n",
      "#Topics: 12, Score: 0.3808281901153752\n",
      "#Topics: 14, Score: 0.400475071727635\n",
      "#Topics: 16, Score: 0.4059106993400384\n",
      "#Topics: 18, Score: 0.4046843835584626\n",
      "#Topics: 20, Score: 0.40893539950009467\n",
      "#Topics: 22, Score: 0.4292232548865163\n",
      "#Topics: 24, Score: 0.4317817803313601\n",
      "#Topics: 26, Score: 0.4311943428675956\n",
      "#Topics: 28, Score: 0.4225681866119285\n"
     ]
    }
   ],
   "source": [
    "# RUN 1\n",
    "model_list_1 = []\n",
    "coherence_values_1 = []\n",
    "model_topics_1 = []\n",
    "\n",
    "for num_topics in range(2, 30, 2):\n",
    "    train_ldaMallet = gensim.models.wrappers.LdaMallet(mallet_path, corpus=train_vecs, num_topics=num_topics, id2word=train_dictionary)\n",
    "    coherencemodel = CoherenceModel(model=train_ldaMallet, texts=train_docs, dictionary=train_dictionary, coherence='c_v')\n",
    "    model_topics_1.append(num_topics)\n",
    "    model_list_1.append(train_ldaMallet)\n",
    "    coherence_values_1.append(coherencemodel.get_coherence())\n",
    "    print(\"#Topics: \" + str(num_topics) + \", Score: \" + str(coherencemodel.get_coherence()))"
   ]
  },
  {
   "cell_type": "code",
   "execution_count": 9,
   "metadata": {},
   "outputs": [
    {
     "data": {
      "image/png": "[encoded data removed]",
      "text/plain": [
       "<Figure size 432x288 with 1 Axes>"
      ]
     },
     "metadata": {
      "needs_background": "light"
     },
     "output_type": "display_data"
    }
   ],
   "source": [
    "# Plotting of graph for RUN 1\n",
    "limit=30; start=2; step=2;\n",
    "\n",
    "x = range(start, limit, step)\n",
    "\n",
    "plt.plot(x, coherence_values_1)\n",
    "plt.xlabel(\"Num Topics\")\n",
    "plt.ylabel(\"Coherence score\")\n",
    "plt.legend((\"coherence_values\"), loc='best')\n",
    "plt.show()"
   ]
  },
  {
   "cell_type": "code",
   "execution_count": 10,
   "metadata": {},
   "outputs": [
    {
     "name": "stdout",
     "output_type": "stream",
     "text": [
      "#Topics: 30, Score: 0.43620580182131957\n",
      "#Topics: 32, Score: 0.42798788238186897\n",
      "#Topics: 34, Score: 0.43600280789436824\n",
      "#Topics: 36, Score: 0.4364645614771019\n",
      "#Topics: 38, Score: 0.4355284488174965\n",
      "#Topics: 40, Score: 0.435707561732252\n",
      "#Topics: 42, Score: 0.4417337921222379\n",
      "#Topics: 44, Score: 0.4290503150197432\n",
      "#Topics: 46, Score: 0.4444787179528973\n",
      "#Topics: 48, Score: 0.4474373007820181\n",
      "#Topics: 50, Score: 0.4430554840932544\n",
      "#Topics: 52, Score: 0.441044517234399\n",
      "#Topics: 54, Score: 0.4320460927371197\n",
      "#Topics: 56, Score: 0.4303023363619961\n",
      "#Topics: 58, Score: 0.43863872449571556\n"
     ]
    }
   ],
   "source": [
    "# RUN 2\n",
    "model_list_2 = []\n",
    "coherence_values_2 = []\n",
    "model_topics_2 = []\n",
    "\n",
    "for num_topics in range(30, 60, 2):\n",
    "    train_ldaMallet = gensim.models.wrappers.LdaMallet(mallet_path, corpus=train_vecs, num_topics=num_topics, id2word=train_dictionary)\n",
    "    coherencemodel = CoherenceModel(model=train_ldaMallet, texts=train_docs, dictionary=train_dictionary, coherence='c_v')\n",
    "    model_topics_2.append(num_topics)\n",
    "    model_list_2.append(train_ldaMallet)\n",
    "    coherence_values_2.append(coherencemodel.get_coherence())\n",
    "    print(\"#Topics: \" + str(num_topics) + \", Score: \" + str(coherencemodel.get_coherence()))"
   ]
  },
  {
   "cell_type": "code",
   "execution_count": 11,
   "metadata": {},
   "outputs": [
    {
     "data": {
      "image/png": "[encoded data removed]",
      "text/plain": [
       "<Figure size 432x288 with 1 Axes>"
      ]
     },
     "metadata": {
      "needs_background": "light"
     },
     "output_type": "display_data"
    }
   ],
   "source": [
    "# Plotting of graph for RUN 2\n",
    "limit=60; start=30; step=2;\n",
    "\n",
    "x = range(start, limit, step)\n",
    "\n",
    "plt.plot(x, coherence_values_2)\n",
    "plt.xlabel(\"Num Topics\")\n",
    "plt.ylabel(\"Coherence score\")\n",
    "plt.legend((\"coherence_values\"), loc='best')\n",
    "plt.show()"
   ]
  },
  {
   "cell_type": "code",
   "execution_count": 12,
   "metadata": {},
   "outputs": [
    {
     "name": "stdout",
     "output_type": "stream",
     "text": [
      "#Topics: 60, Score: 0.4391745181023914\n",
      "#Topics: 62, Score: 0.43457606288378703\n",
      "#Topics: 64, Score: 0.441299461748609\n",
      "#Topics: 66, Score: 0.43879564601041976\n",
      "#Topics: 68, Score: 0.43613562340753614\n",
      "#Topics: 70, Score: 0.43194062442287845\n",
      "#Topics: 72, Score: 0.4444285123449199\n",
      "#Topics: 74, Score: 0.43109023102632005\n",
      "#Topics: 76, Score: 0.4397302598698165\n",
      "#Topics: 78, Score: 0.4372850003029967\n",
      "#Topics: 80, Score: 0.42764518906259247\n",
      "#Topics: 82, Score: 0.43500080003123537\n",
      "#Topics: 84, Score: 0.4311877027724106\n",
      "#Topics: 86, Score: 0.43058145261479963\n",
      "#Topics: 88, Score: 0.4211810005624079\n"
     ]
    }
   ],
   "source": [
    "# RUN 3\n",
    "model_list_3 = []\n",
    "coherence_values_3 = []\n",
    "model_topics_3 = []\n",
    "\n",
    "for num_topics in range(60, 90, 2):\n",
    "    train_ldaMallet = gensim.models.wrappers.LdaMallet(mallet_path, corpus=train_vecs, num_topics=num_topics, id2word=train_dictionary)\n",
    "    coherencemodel = CoherenceModel(model=train_ldaMallet, texts=train_docs, dictionary=train_dictionary, coherence='c_v')\n",
    "    model_topics_3.append(num_topics)\n",
    "    model_list_3.append(train_ldaMallet)\n",
    "    coherence_values_3.append(coherencemodel.get_coherence())\n",
    "    print(\"#Topics: \" + str(num_topics) + \", Score: \" + str(coherencemodel.get_coherence()))"
   ]
  },
  {
   "cell_type": "code",
   "execution_count": 13,
   "metadata": {},
   "outputs": [
    {
     "data": {
      "image/png": "[encoded data removed]",
      "text/plain": [
       "<Figure size 432x288 with 1 Axes>"
      ]
     },
     "metadata": {
      "needs_background": "light"
     },
     "output_type": "display_data"
    }
   ],
   "source": [
    "# Plotting of graph for RUN 3\n",
    "limit=90; start=60; step=2;\n",
    "\n",
    "x = range(start, limit, step)\n",
    "\n",
    "plt.plot(x, coherence_values_3)\n",
    "plt.xlabel(\"Num Topics\")\n",
    "plt.ylabel(\"Coherence score\")\n",
    "plt.legend((\"coherence_values\"), loc='best')\n",
    "plt.show()"
   ]
  },
  {
   "cell_type": "code",
   "execution_count": 14,
   "metadata": {},
   "outputs": [
    {
     "name": "stdout",
     "output_type": "stream",
     "text": [
      "#Topics: 90, Score: 0.4335538213880004\n",
      "#Topics: 92, Score: 0.42913772216454343\n",
      "#Topics: 94, Score: 0.4258351866777491\n",
      "#Topics: 96, Score: 0.43232648869722\n",
      "#Topics: 98, Score: 0.4256332169595269\n",
      "#Topics: 100, Score: 0.4271227180857116\n",
      "#Topics: 102, Score: 0.42752600614407527\n",
      "#Topics: 104, Score: 0.4256840923724497\n",
      "#Topics: 106, Score: 0.4221675563238882\n",
      "#Topics: 108, Score: 0.42179835886806205\n",
      "#Topics: 110, Score: 0.4226220217387769\n",
      "#Topics: 112, Score: 0.4216938409484085\n",
      "#Topics: 114, Score: 0.4235916327505747\n",
      "#Topics: 116, Score: 0.41412608503403076\n",
      "#Topics: 118, Score: 0.425592937050291\n"
     ]
    }
   ],
   "source": [
    "# RUN 4\n",
    "model_list_4 = []\n",
    "coherence_values_4 = []\n",
    "model_topics_4 = []\n",
    "\n",
    "for num_topics in range(90, 120, 2):\n",
    "    train_ldaMallet = gensim.models.wrappers.LdaMallet(mallet_path, corpus=train_vecs, num_topics=num_topics, id2word=train_dictionary)\n",
    "    coherencemodel = CoherenceModel(model=train_ldaMallet, texts=train_docs, dictionary=train_dictionary, coherence='c_v')\n",
    "    model_topics_4.append(num_topics)\n",
    "    model_list_4.append(train_ldaMallet)\n",
    "    coherence_values_4.append(coherencemodel.get_coherence())\n",
    "    print(\"#Topics: \" + str(num_topics) + \", Score: \" + str(coherencemodel.get_coherence()))"
   ]
  },
  {
   "cell_type": "code",
   "execution_count": 15,
   "metadata": {},
   "outputs": [
    {
     "data": {
      "image/png": "[encoded data removed]",
      "text/plain": [
       "<Figure size 432x288 with 1 Axes>"
      ]
     },
     "metadata": {
      "needs_background": "light"
     },
     "output_type": "display_data"
    }
   ],
   "source": [
    "# Plotting of graph for RUN 4\n",
    "limit=120; start=90; step=2;\n",
    "\n",
    "x = range(start, limit, step)\n",
    "\n",
    "plt.plot(x, coherence_values_4)\n",
    "plt.xlabel(\"Num Topics\")\n",
    "plt.ylabel(\"Coherence score\")\n",
    "plt.legend((\"coherence_values\"), loc='best')\n",
    "plt.show()"
   ]
  },
  {
   "cell_type": "code",
   "execution_count": 16,
   "metadata": {},
   "outputs": [],
   "source": [
    "end_time = datetime.datetime.now()"
   ]
  },
  {
   "cell_type": "code",
   "execution_count": 17,
   "metadata": {},
   "outputs": [
    {
     "name": "stdout",
     "output_type": "stream",
     "text": [
      "Start time:  2020-04-01 00:18:23.857937\n",
      "End time:  2020-04-01 05:15:31.729106\n"
     ]
    }
   ],
   "source": [
    "print(\"Start time: \", start_time)\n",
    "print(\"End time: \", end_time)"
   ]
  },
  {
   "cell_type": "markdown",
   "metadata": {},
   "source": [
    "### Collating model and coherence score\n",
    "Collating to plot out the entire series from K 2 to 120 to determine optimal K"
   ]
  },
  {
   "cell_type": "code",
   "execution_count": 18,
   "metadata": {},
   "outputs": [],
   "source": [
    "collated_model_list = model_list_1 + model_list_2 + model_list_3 + model_list_4\n",
    "collated_coherence_values = coherence_values_1 + coherence_values_2 + coherence_values_3 + coherence_values_4\n",
    "colated_model_topics = model_topics_1 + model_topics_2 + model_topics_3 + model_topics_4"
   ]
  },
  {
   "cell_type": "code",
   "execution_count": 19,
   "metadata": {},
   "outputs": [
    {
     "data": {
      "image/png": "[encoded data removed]",
      "text/plain": [
       "<Figure size 432x288 with 1 Axes>"
      ]
     },
     "metadata": {
      "needs_background": "light"
     },
     "output_type": "display_data"
    }
   ],
   "source": [
    "# Plotting of entire series\n",
    "limit=120; start=2; step=2;\n",
    "\n",
    "x = range(start, limit, step)\n",
    "\n",
    "plt.plot(x, collated_coherence_values)\n",
    "plt.xlabel(\"Num Topics\")\n",
    "plt.ylabel(\"Coherence score\")\n",
    "plt.legend((\"coherence_values\"), loc='best')\n",
    "plt.show()"
   ]
  },
  {
   "cell_type": "code",
   "execution_count": 20,
   "metadata": {},
   "outputs": [],
   "source": [
    "# Retrieve based on highest coherence value\n",
    "highest_coherence_value = max(collated_coherence_values)\n",
    "index = collated_coherence_values.index(highest_coherence_value)\n",
    "\n",
    "# Retrieve the model and the no. of topics with the highest coherence value\n",
    "highest_lda_model = collated_model_list[index]\n",
    "highest_lda_topics = colated_model_topics[index]"
   ]
  },
  {
   "cell_type": "code",
   "execution_count": 25,
   "metadata": {},
   "outputs": [
    {
     "name": "stdout",
     "output_type": "stream",
     "text": [
      "Highest coherence score: 0.4474373007820181\n",
      "Number of topics with highest coherence score: 48\n"
     ]
    }
   ],
   "source": [
    "print(\"Highest coherence score:\", highest_coherence_value)\n",
    "print(\"Number of topics with highest coherence score:\", highest_lda_topics)"
   ]
  },
  {
   "cell_type": "markdown",
   "metadata": {},
   "source": [
    "### Save the LDA models\n",
    "Saving models from 2 to 120"
   ]
  },
  {
   "cell_type": "code",
   "execution_count": 28,
   "metadata": {},
   "outputs": [
    {
     "name": "stdout",
     "output_type": "stream",
     "text": [
      "./LDA_Models/train_LDA_2\n",
      "./LDA_Models/train_LDA_4\n",
      "./LDA_Models/train_LDA_6\n",
      "./LDA_Models/train_LDA_8\n",
      "./LDA_Models/train_LDA_10\n",
      "./LDA_Models/train_LDA_12\n",
      "./LDA_Models/train_LDA_14\n",
      "./LDA_Models/train_LDA_16\n",
      "./LDA_Models/train_LDA_18\n",
      "./LDA_Models/train_LDA_20\n",
      "./LDA_Models/train_LDA_22\n",
      "./LDA_Models/train_LDA_24\n",
      "./LDA_Models/train_LDA_26\n",
      "./LDA_Models/train_LDA_28\n",
      "./LDA_Models/train_LDA_30\n",
      "./LDA_Models/train_LDA_32\n",
      "./LDA_Models/train_LDA_34\n",
      "./LDA_Models/train_LDA_36\n",
      "./LDA_Models/train_LDA_38\n",
      "./LDA_Models/train_LDA_40\n",
      "./LDA_Models/train_LDA_42\n",
      "./LDA_Models/train_LDA_44\n",
      "./LDA_Models/train_LDA_46\n",
      "./LDA_Models/train_LDA_48\n",
      "./LDA_Models/train_LDA_50\n",
      "./LDA_Models/train_LDA_52\n",
      "./LDA_Models/train_LDA_54\n",
      "./LDA_Models/train_LDA_56\n",
      "./LDA_Models/train_LDA_58\n",
      "./LDA_Models/train_LDA_60\n",
      "./LDA_Models/train_LDA_62\n",
      "./LDA_Models/train_LDA_64\n",
      "./LDA_Models/train_LDA_66\n",
      "./LDA_Models/train_LDA_68\n",
      "./LDA_Models/train_LDA_70\n",
      "./LDA_Models/train_LDA_72\n",
      "./LDA_Models/train_LDA_74\n",
      "./LDA_Models/train_LDA_76\n",
      "./LDA_Models/train_LDA_78\n",
      "./LDA_Models/train_LDA_80\n",
      "./LDA_Models/train_LDA_82\n",
      "./LDA_Models/train_LDA_84\n",
      "./LDA_Models/train_LDA_86\n",
      "./LDA_Models/train_LDA_88\n",
      "./LDA_Models/train_LDA_90\n",
      "./LDA_Models/train_LDA_92\n",
      "./LDA_Models/train_LDA_94\n",
      "./LDA_Models/train_LDA_96\n",
      "./LDA_Models/train_LDA_98\n",
      "./LDA_Models/train_LDA_100\n",
      "./LDA_Models/train_LDA_102\n",
      "./LDA_Models/train_LDA_104\n",
      "./LDA_Models/train_LDA_106\n",
      "./LDA_Models/train_LDA_108\n",
      "./LDA_Models/train_LDA_110\n",
      "./LDA_Models/train_LDA_112\n",
      "./LDA_Models/train_LDA_114\n",
      "./LDA_Models/train_LDA_116\n",
      "./LDA_Models/train_LDA_118\n"
     ]
    }
   ],
   "source": [
    "models_folder = \"./LDA_Models/\"\n",
    "\n",
    "for model_num in range(0, len(collated_model_list)):\n",
    "    model_name = \"train_LDA_\" + str(colated_model_topics[model_num])\n",
    "    collated_model_list[model_num].save(models_folder + model_name)\n",
    "    print(\"Saving model: \")"
   ]
  },
  {
   "cell_type": "code",
   "execution_count": null,
   "metadata": {},
   "outputs": [],
   "source": []
  }
 ],
 "metadata": {
  "kernelspec": {
   "display_name": "Python 3",
   "language": "python",
   "name": "python3"
  },
  "language_info": {
   "codemirror_mode": {
    "name": "ipython",
    "version": 3
   },
   "file_extension": ".py",
   "mimetype": "text/x-python",
   "name": "python",
   "nbconvert_exporter": "python",
   "pygments_lexer": "ipython3",
   "version": "3.7.2"
  }
 },
 "nbformat": 4,
 "nbformat_minor": 2
}

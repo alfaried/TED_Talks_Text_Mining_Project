{
 "cells": [
  {
   "cell_type": "markdown",
   "metadata": {},
   "source": [
    "# 2.1 Document Clustering with Key Words Extraction (TF-IDF Weightage)"
   ]
  },
  {
   "cell_type": "markdown",
   "metadata": {},
   "source": [
    "## 2.1.1 Data Import"
   ]
  },
  {
   "cell_type": "markdown",
   "metadata": {},
   "source": [
    "#### Importing Libraries"
   ]
  },
  {
   "cell_type": "code",
   "execution_count": null,
   "metadata": {},
   "outputs": [],
   "source": [
    "import pandas as pd\n",
    "import numpy as np\n",
    "import re\n",
    "import copy\n",
    "\n",
    "import nltk\n",
    "import gensim\n",
    "from nltk.stem.porter import PorterStemmer\n",
    "from sklearn.cluster import KMeans \n",
    "import matplotlib.pyplot as plt"
   ]
  },
  {
   "cell_type": "markdown",
   "metadata": {},
   "source": [
    "#### Loading Train and Test Dataset from CSV"
   ]
  },
  {
   "cell_type": "code",
   "execution_count": 91,
   "metadata": {},
   "outputs": [],
   "source": [
    "train_dataset = pd.read_csv(\"./TrainTest_Dataset/train_dataset.csv\", keep_default_na=False, na_values=[\"\"])\n",
    "test_dataset = pd.read_csv(\"./TrainTest_Dataset/test_dataset.csv\", keep_default_na=False, na_values=[\"\"])"
   ]
  },
  {
   "cell_type": "markdown",
   "metadata": {},
   "source": [
    "## 2.1.2 Training Data Pre-Processing"
   ]
  },
  {
   "cell_type": "markdown",
   "metadata": {},
   "source": [
    "#### Preparing Training Corpus and Pre-Processing Training Data"
   ]
  },
  {
   "cell_type": "code",
   "execution_count": 32,
   "metadata": {},
   "outputs": [],
   "source": [
    "train_corpus = nltk.corpus.PlaintextCorpusReader(\"./TrainTest_Transcripts/Train\", \".+\\.txt\")\n",
    "train_fids = train_corpus.fileids()"
   ]
  },
  {
   "cell_type": "code",
   "execution_count": 18,
   "metadata": {},
   "outputs": [],
   "source": [
    "# Preparing List of Stop Words and Stemming using NLTK Library \n",
    "stop_list = nltk.corpus.stopwords.words(\"english\")\n",
    "stemmer = nltk.stem.porter.PorterStemmer()\n",
    "\n",
    "trainData_tokenized = [corpus.words(fid) for fid in train_fids] \n",
    "trainData_lowerCase = [[w.lower() for w in doc] for doc in trainData_tokenized]\n",
    "trainData_removedPunct = [[w for w in doc if re.search('^[a-z]+$', w)] for doc in trainData_lowerCase]\n",
    "trainData_removedStopwords = [[w for w in doc if w not in stop_list] for doc in trainData_removedPunct]\n",
    "trainData_processed = [[stemmer.stem(w) for w in doc] for doc in trainData_removedStopwords]"
   ]
  },
  {
   "cell_type": "markdown",
   "metadata": {},
   "source": [
    "#### Converting Train Data into Sparse Vector with TF-IDF Weightage "
   ]
  },
  {
   "cell_type": "code",
   "execution_count": 136,
   "metadata": {},
   "outputs": [],
   "source": [
    "# Word dictionary \n",
    "dict_train = gensim.corpora.Dictionary(trainData_processed)\n",
    "\n",
    "# Bag of Words Vector \n",
    "bowVec_train = [dict_train.doc2bow(doc) for doc in trainData_processed] \n",
    "\n",
    "# TF*IDF Model for Training Data \n",
    "tfidfModel_train = gensim.models.TfidfModel(bowVec_train) \n",
    "\n",
    "# Sparse Vector with TFIDF Weightage\n",
    "SparseVec_train = [tfidfModel_train[vec] for vec in bowVec_train] "
   ]
  },
  {
   "cell_type": "markdown",
   "metadata": {},
   "source": [
    "#### Extracting Top-N Weighted Words from each Document "
   ]
  },
  {
   "cell_type": "code",
   "execution_count": 201,
   "metadata": {},
   "outputs": [],
   "source": [
    "# Function to extract top-N words from Document\n",
    "def Extract_Doc_Top_N_Tfidf_Words(orginal_list, TopNWords):\n",
    "    # Sort each document word's TF-IDF weightage (list of tuples) in descending order \n",
    "    updated_list = copy.deepcopy(orginal_list)\n",
    "    doc_index = 0 \n",
    "    for index in range(0,len(updated_list)):\n",
    "        updated_list[index].sort(key = lambda x: x[1], reverse=True)\n",
    "        updated_list[index] = updated_list[index][:TopNWords] # Extract the top 100 weighted words  \n",
    "        doc_index += 1\n",
    "    return updated_list  \n",
    "\n",
    "# Function to determine the number unique words from Sparse Vector\n",
    "def Create_New_Dictionary(sparseVec, original_dict):\n",
    "    # Converting Bag of Words ID in sparseVec into a list of Tokens \n",
    "    # E.g. list of \"list of string\" e.g. [['SMU','SU'],['Graduate','Wow']]\n",
    "    tokenized_list = [[original_dict.get(tup[0]) for tup in doc] for doc in sparseVec] \n",
    "    return gensim.corpora.Dictionary(tokenized_list)\n",
    "\n",
    "# Function to create new Sparse Vector based on the new dictionary \n",
    "def Create_New_Sparse_Vector(sparseVec, new_dictionary, old_dictionary):    \n",
    "    # Inverting Dictionary Key and Value for new_dictionary for easier retrieval\n",
    "    # From [{word_id : word}] to [{word : word_id}]\n",
    "    inverted_dict = dict(zip(new_dictionary.values(), new_dictionary.keys()))\n",
    "    new_sparseVec = []\n",
    "    for doc in sparseVec:\n",
    "        new_doc = []\n",
    "        for tup in doc:\n",
    "            word = old_dictionary.get(tup[0]) # retrieve word from old_dictionary          \n",
    "            new_doc.append((inverted_dict.get(word),tup[1]))\n",
    "        new_sparseVec.append(new_doc)\n",
    "    return new_sparseVec"
   ]
  },
  {
   "cell_type": "code",
   "execution_count": 246,
   "metadata": {},
   "outputs": [],
   "source": [
    "# Sparse Vector with top-N TF-IDF words from each document. \n",
    "# Keep in mind that this contains Word ID of the previous Dictionary  \n",
    "extracted_SparseVec_train = Extract_Doc_Top_N_Tfidf_Words(SparseVec_train, 15) \n",
    "\n",
    "# Creating new set of Dictionary  \n",
    "new_dict_train = Create_New_Dictionary(extracted_SparseVec_train, dict_train)\n",
    "\n",
    "# Updating Sparse Vector's word ID \n",
    "new_SparseVec_train = Create_New_Sparse_Vector(extracted_SparseVec_train, new_dict_train, dict_train)\n",
    "\n",
    "# Transforming Sparse Vector into np array to find optimal K \n",
    "train_nparray = gensim.matutils.corpus2dense(new_SparseVec_train, len(new_dict_train))"
   ]
  },
  {
   "cell_type": "code",
   "execution_count": 247,
   "metadata": {},
   "outputs": [
    {
     "name": "stdout",
     "output_type": "stream",
     "text": [
      "11891\n"
     ]
    }
   ],
   "source": [
    "print(len(new_dict_train))"
   ]
  },
  {
   "cell_type": "markdown",
   "metadata": {},
   "source": [
    "## 2.1.3 Data Clustering"
   ]
  },
  {
   "cell_type": "markdown",
   "metadata": {},
   "source": [
    "### 2.1.3.1 Identifying Optimal K \n",
    "Adapted from: https://blog.cambridgespark.com/how-to-determine-the-optimal-number-of-clusters-for-k-means-clustering-14f27070048f"
   ]
  },
  {
   "cell_type": "code",
   "execution_count": null,
   "metadata": {},
   "outputs": [
    {
     "name": "stdout",
     "output_type": "stream",
     "text": [
      "running:  1\n",
      "running:  2\n",
      "running:  3\n",
      "running:  4\n",
      "running:  5\n",
      "running:  6\n",
      "running:  7\n",
      "running:  8\n",
      "running:  9\n",
      "running:  10\n",
      "running:  11\n",
      "running:  12\n",
      "running:  13\n",
      "running:  14\n",
      "running:  15\n",
      "running:  16\n",
      "running:  17\n",
      "running:  18\n",
      "running:  19\n",
      "running:  20\n",
      "running:  21\n",
      "running:  22\n",
      "running:  23\n",
      "running:  24\n",
      "running:  25\n",
      "running:  26\n",
      "running:  27\n",
      "running:  28\n",
      "running:  29\n",
      "running:  30\n",
      "running:  31\n",
      "running:  32\n",
      "running:  33\n",
      "running:  34\n",
      "running:  35\n",
      "running:  36\n",
      "running:  37\n",
      "running:  38\n",
      "running:  39\n",
      "running:  40\n",
      "running:  41\n",
      "running:  42\n",
      "running:  43\n",
      "running:  44\n"
     ]
    }
   ],
   "source": [
    "Sum_of_squared_distances = []\n",
    "K = range(1,200)\n",
    "for k in K:\n",
    "    print(\"running: \", k)\n",
    "    km = KMeans(n_clusters=k)\n",
    "    km = km.fit(train_nparray)\n",
    "    Sum_of_squared_distances.append(km.inertia_)"
   ]
  },
  {
   "cell_type": "code",
   "execution_count": 218,
   "metadata": {},
   "outputs": [
    {
     "data": {
      "image/png": "[encoded data removed]",
      "text/plain": [
       "<Figure size 432x288 with 1 Axes>"
      ]
     },
     "metadata": {
      "needs_background": "light"
     },
     "output_type": "display_data"
    }
   ],
   "source": [
    "plt.plot(K, Sum_of_squared_distances, 'bx-')\n",
    "plt.xlabel('k')\n",
    "plt.ylabel('Sum_of_squared_distances')\n",
    "plt.title('Elbow Method For Optimal k')\n",
    "plt.show()"
   ]
  },
  {
   "cell_type": "markdown",
   "metadata": {},
   "source": [
    "## 2. K-Means Clustering"
   ]
  },
  {
   "cell_type": "code",
   "execution_count": 56,
   "metadata": {},
   "outputs": [],
   "source": [
    "import k_means\n",
    "\n",
    "num_tokens = len(dictionary.token2id)\n",
    "clusters = k_means.k_means(vecs2, num_tokens, 70)"
   ]
  },
  {
   "cell_type": "markdown",
   "metadata": {},
   "source": [
    "# Document Retrieval"
   ]
  },
  {
   "cell_type": "code",
   "execution_count": null,
   "metadata": {},
   "outputs": [],
   "source": [
    "from gensim import similarities\n",
    "\n",
    "# DOCUMENT RETRIEVAL????\n",
    "similarity_index = similarities.SparseMatrixSimilarity(vecs1, len(dictionary))\n",
    "\n",
    "test_vector = vecs1[100]\n",
    "sims = similarity_index[test_vector]\n",
    "sorted_sims = sorted(enumerate(sims), key = lambda item: -item[1])\n",
    "\n",
    "print(list(enumerate(sorted_sims)))"
   ]
  },
  {
   "cell_type": "markdown",
   "metadata": {},
   "source": [
    "## Archieved - Ignore the Below"
   ]
  },
  {
   "cell_type": "code",
   "execution_count": null,
   "metadata": {},
   "outputs": [],
   "source": [
    "import numpy as np # linear algebra\n",
    "from sklearn.cluster import KMeans, MiniBatchKMeans\n",
    "from sklearn.feature_extraction.text import TfidfVectorizer\n",
    "from sklearn.decomposition import PCA\n",
    "from sklearn.manifold import TSNE\n",
    "from sklearn.preprocessing import normalize\n",
    "from sklearn.metrics import pairwise_distances\n",
    "import string\n",
    "import kmeans\n",
    "\n",
    "\n",
    "import matplotlib.pyplot as plt\n",
    "import matplotlib.cm as cm\n",
    "\n",
    "%matplotlib inline\n",
    "plt.style.use('fivethirtyeight')\n",
    "\n",
    "\n",
    "metadata_dataset = pd.read_csv(\"../Processed_Dataset/cleaned_dataset.csv\", keep_default_na=False, na_values=[\"\"])\n",
    "\n",
    "data = metadata_dataset['transcript']\n",
    "\n",
    "tfidf = TfidfVectorizer(\n",
    "    max_features = 8000,\n",
    "    stop_words = 'english',\n",
    "     \n",
    "\n",
    "tfidf.fit(data)\n",
    "text = tfidf.transform(data)\n",
    "\n",
    "print(type(tfid))\n",
    "\n",
    "# def find_optimal_clusters(data, max_k):\n",
    "#     iters = range(2, max_k+1, 2)\n",
    "    \n",
    "#     sse = []\n",
    "#     for k in iters:\n",
    "#         sse.append(MiniBatchKMeans(n_clusters=k, init_size=1024, batch_size=2048, random_state=20).fit(data).inertia_)\n",
    "#         print('Fit {} clusters'.format(k))\n",
    "        \n",
    "#     f, ax = plt.subplots(1, 1)\n",
    "#     ax.plot(iters, sse, marker='o')\n",
    "#     ax.set_xlabel('Cluster Centers')\n",
    "#     ax.set_xticks(iters)\n",
    "#     ax.set_xticklabels(iters)\n",
    "#     ax.set_ylabel('SSE')\n",
    "#     ax.set_title('SSE by Cluster Center Plot')\n",
    "    \n",
    "# find_optimal_clusters(text, 150)\n",
    "\n",
    "#vecs1 = [dictionary.doc2bow(doc) for doc in docs5]\n",
    "\n",
    "#tf_idf = vecs1.fit_transform(data) "
   ]
  },
  {
   "cell_type": "code",
   "execution_count": null,
   "metadata": {},
   "outputs": [],
   "source": [
    "print(type(data))"
   ]
  },
  {
   "cell_type": "code",
   "execution_count": null,
   "metadata": {},
   "outputs": [],
   "source": [
    "from sklearn.datasets import load_breast_cancer\n",
    "breast = load_breast_cancer()\n",
    "breast_data = breast.data\n",
    "\n",
    "print(breast_data)"
   ]
  }
 ],
 "metadata": {
  "kernelspec": {
   "display_name": "Python 3",
   "language": "python",
   "name": "python3"
  },
  "language_info": {
   "codemirror_mode": {
    "name": "ipython",
    "version": 3
   },
   "file_extension": ".py",
   "mimetype": "text/x-python",
   "name": "python",
   "nbconvert_exporter": "python",
   "pygments_lexer": "ipython3",
   "version": "3.7.4"
  }
 },
 "nbformat": 4,
 "nbformat_minor": 2
}

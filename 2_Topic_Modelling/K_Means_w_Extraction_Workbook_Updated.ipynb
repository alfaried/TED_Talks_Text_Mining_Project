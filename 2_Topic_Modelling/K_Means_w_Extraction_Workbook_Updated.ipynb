{
 "cells": [
  {
   "cell_type": "markdown",
   "metadata": {},
   "source": [
    "# 2.1 Document Clustering with Key Words Extraction (TF-IDF Weightage)"
   ]
  },
  {
   "cell_type": "markdown",
   "metadata": {},
   "source": [
    "## 2.1.1 Data Import"
   ]
  },
  {
   "cell_type": "markdown",
   "metadata": {},
   "source": [
    "#### Importing Libraries"
   ]
  },
  {
   "cell_type": "code",
   "execution_count": 3,
   "metadata": {},
   "outputs": [],
   "source": [
    "import pandas as pd\n",
    "import numpy as np\n",
    "import re\n",
    "import copy\n",
    "\n",
    "import nltk\n",
    "import gensim\n",
    "import k_means\n",
    "from nltk.stem.porter import PorterStemmer\n",
    "from sklearn.cluster import KMeans \n",
    "import matplotlib.pyplot as plt"
   ]
  },
  {
   "cell_type": "markdown",
   "metadata": {},
   "source": [
    "## 2.1.2 Train and Test Data Pre-Processing"
   ]
  },
  {
   "cell_type": "markdown",
   "metadata": {},
   "source": [
    "#### Preparing Training Corpus and Pre-Processing Training Data"
   ]
  },
  {
   "cell_type": "code",
   "execution_count": 4,
   "metadata": {},
   "outputs": [],
   "source": [
    "train_corpus = nltk.corpus.PlaintextCorpusReader(\"./TrainTest_Transcripts/Train\", \".+\\.txt\")\n",
    "train_fids = train_corpus.fileids()"
   ]
  },
  {
   "cell_type": "code",
   "execution_count": 5,
   "metadata": {},
   "outputs": [],
   "source": [
    "# Preparing List of Stop Words and Stemming using NLTK Library \n",
    "stop_list = nltk.corpus.stopwords.words(\"english\")\n",
    "newStopWords = ['ok','okay']\n",
    "stop_list.append(newStopWords)\n",
    "\n",
    "\n",
    "stemmer = nltk.stem.porter.PorterStemmer()\n",
    "\n",
    "trainData_tokenized = [train_corpus.words(fid) for fid in train_fids] \n",
    "trainData_lowerCase = [[w.lower() for w in doc] for doc in trainData_tokenized]\n",
    "trainData_removedPunct = [[w for w in doc if re.search('^[a-z]+$', w)] for doc in trainData_lowerCase]\n",
    "trainData_removedStopwords = [[w for w in doc if w not in stop_list] for doc in trainData_removedPunct]\n",
    "trainData_processed = [[stemmer.stem(w) for w in doc] for doc in trainData_removedStopwords]"
   ]
  },
  {
   "cell_type": "markdown",
   "metadata": {},
   "source": [
    "#### Preparing Test Corpus and Pre-Processing Test Data"
   ]
  },
  {
   "cell_type": "code",
   "execution_count": 8,
   "metadata": {},
   "outputs": [],
   "source": [
    "test_corpus = nltk.corpus.PlaintextCorpusReader(\"./TrainTest_Transcripts/Test\", \".+\\.txt\")\n",
    "test_fids = test_corpus.fileids()"
   ]
  },
  {
   "cell_type": "code",
   "execution_count": null,
   "metadata": {},
   "outputs": [],
   "source": [
    "# Preparing List of Stop Words and Stemming using NLTK Library \n",
    "testData_tokenized = [test_corpus.words(fid) for fid in test_fids] \n",
    "testData_lowerCase = [[w.lower() for w in doc] for doc in testData_tokenized]\n",
    "testData_removedPunct = [[w for w in doc if re.search('^[a-z]+$', w)] for doc in testData_lowerCase]\n",
    "testData_removedStopwords = [[w for w in doc if w not in stop_list] for doc in testData_removedPunct]\n",
    "testData_processed = [[stemmer.stem(w) for w in doc] for doc in testData_removedStopwords]"
   ]
  },
  {
   "cell_type": "markdown",
   "metadata": {},
   "source": [
    "#### Converting Train Data into Sparse Vector with TF-IDF Weightage "
   ]
  },
  {
   "cell_type": "code",
   "execution_count": 6,
   "metadata": {},
   "outputs": [],
   "source": [
    "# Word dictionary \n",
    "dict_train = gensim.corpora.Dictionary(trainData_processed)\n",
    "\n",
    "# Bag of Words Vector \n",
    "bowVec_train = [dict_train.doc2bow(doc) for doc in trainData_processed] \n",
    "\n",
    "# TF*IDF Model for Training Data \n",
    "tfidfModel_train = gensim.models.TfidfModel(bowVec_train) \n",
    "\n",
    "# Sparse Vector with TFIDF Weightage\n",
    "SparseVec_train = [tfidfModel_train[vec] for vec in bowVec_train] "
   ]
  },
  {
   "cell_type": "code",
   "execution_count": 7,
   "metadata": {},
   "outputs": [
    {
     "name": "stdout",
     "output_type": "stream",
     "text": [
      "32084\n"
     ]
    }
   ],
   "source": [
    "print(len(dict_train))\n",
    "new_nparray = gensim.matutils.corpus2dense(SparseVec_train, len(dict_train))"
   ]
  },
  {
   "cell_type": "markdown",
   "metadata": {},
   "source": [
    "## 2.1.3 Data Clustering"
   ]
  },
  {
   "cell_type": "markdown",
   "metadata": {},
   "source": [
    "### 2.1.3.1 Identifying Optimal K \n",
    "Adapted from: https://blog.cambridgespark.com/how-to-determine-the-optimal-number-of-clusters-for-k-means-clustering-14f27070048f"
   ]
  },
  {
   "cell_type": "code",
   "execution_count": null,
   "metadata": {},
   "outputs": [],
   "source": [
    "Sum_of_squared_distances = [] \n",
    "K = range(1,101)\n",
    "for k in K:\n",
    "    print(\"running: \", k)\n",
    "    km = KMeans(n_clusters=k)\n",
    "    km = km.fit(new_nparray)\n",
    "    Sum_of_squared_distances.append(km.inertia_)"
   ]
  },
  {
   "cell_type": "code",
   "execution_count": null,
   "metadata": {},
   "outputs": [],
   "source": [
    "# Plotting overall view where K ranges from 1 to 100 \n",
    "plt.plot(K, Sum_of_squared_distances, 'bx-')\n",
    "plt.xlabel('k')\n",
    "plt.ylabel('Sum_of_squared_distances')\n",
    "plt.title('Elbow Method For Optimal k')\n",
    "plt.show()"
   ]
  },
  {
   "cell_type": "markdown",
   "metadata": {},
   "source": [
    "#### Zooming into the region of interest"
   ]
  },
  {
   "cell_type": "code",
   "execution_count": 17,
   "metadata": {},
   "outputs": [
    {
     "name": "stdout",
     "output_type": "stream",
     "text": [
      "running:  40\n",
      "running:  41\n",
      "running:  42\n",
      "running:  43\n",
      "running:  44\n",
      "running:  45\n",
      "running:  46\n",
      "running:  47\n",
      "running:  48\n",
      "running:  49\n",
      "running:  50\n"
     ]
    }
   ],
   "source": [
    "# Sum_of_squared_distances 40 - 50 \n",
    "Sum_of_squared_distances_40_50 = [] \n",
    "K = range(40,51)\n",
    "for k in K:\n",
    "    print(\"running: \", k)\n",
    "    km = KMeans(n_clusters=k)\n",
    "    km = km.fit(new_nparray)\n",
    "    Sum_of_squared_distances_40_50.append(km.inertia_)"
   ]
  },
  {
   "cell_type": "code",
   "execution_count": 18,
   "metadata": {},
   "outputs": [
    {
     "data": {
      "image/png": "[encoded data removed]",
      "text/plain": [
       "<Figure size 432x288 with 1 Axes>"
      ]
     },
     "metadata": {
      "needs_background": "light"
     },
     "output_type": "display_data"
    }
   ],
   "source": [
    "K = range(40,51)\n",
    "plt.plot(K, Sum_of_squared_distances_40_50, 'bx-')\n",
    "plt.xlabel('k')\n",
    "plt.ylabel('Sum_of_squared_distances')\n",
    "plt.title('Elbow Method For Optimal k')\n",
    "plt.show()"
   ]
  },
  {
   "cell_type": "code",
   "execution_count": 19,
   "metadata": {},
   "outputs": [
    {
     "name": "stdout",
     "output_type": "stream",
     "text": [
      "running:  70\n",
      "running:  71\n",
      "running:  72\n",
      "running:  73\n",
      "running:  74\n",
      "running:  75\n",
      "running:  76\n",
      "running:  77\n",
      "running:  78\n",
      "running:  79\n",
      "running:  80\n"
     ]
    }
   ],
   "source": [
    "# Sum_of_squared_distances 70 - 81 \n",
    "Sum_of_squared_distances_70_81 = [] \n",
    "K = range(70,81)\n",
    "for k in K:\n",
    "    print(\"running: \", k)\n",
    "    km = KMeans(n_clusters=k)\n",
    "    km = km.fit(new_nparray)\n",
    "    Sum_of_squared_distances_70_81.append(km.inertia_)"
   ]
  },
  {
   "cell_type": "code",
   "execution_count": 20,
   "metadata": {},
   "outputs": [
    {
     "data": {
      "image/png": "[encoded data removed]",
      "text/plain": [
       "<Figure size 432x288 with 1 Axes>"
      ]
     },
     "metadata": {
      "needs_background": "light"
     },
     "output_type": "display_data"
    }
   ],
   "source": [
    "K = range(70,81)\n",
    "plt.plot(K, Sum_of_squared_distances_70_81, 'bx-')\n",
    "plt.xlabel('k')\n",
    "plt.ylabel('Sum_of_squared_distances')\n",
    "plt.title('Elbow Method For Optimal k')\n",
    "plt.show()"
   ]
  },
  {
   "cell_type": "markdown",
   "metadata": {},
   "source": [
    "### 2.1.3.2 Clustering Corpus based on Optimal-K of 75\n"
   ]
  },
  {
   "cell_type": "markdown",
   "metadata": {},
   "source": [
    "#### Fine Tuning Train Data - Extracting Top-N Weighted Words from each Document "
   ]
  },
  {
   "cell_type": "code",
   "execution_count": 8,
   "metadata": {},
   "outputs": [],
   "source": [
    "# Function to extract top-N words from Document\n",
    "def Extract_Doc_Top_N_Tfidf_Words(orginal_list, TopNWords):\n",
    "    # Sort each document word's TF-IDF weightage (list of tuples) in descending order \n",
    "    updated_list = copy.deepcopy(orginal_list)\n",
    "    for index in range(0,len(updated_list)):\n",
    "        updated_list[index].sort(key = lambda x: x[1], reverse=True)\n",
    "        updated_list[index] = updated_list[index][:TopNWords] # Extract the top 100 weighted words  \n",
    "    return updated_list  \n",
    "\n",
    "# Function to create new Dictionary based on the new Sparse Vector\n",
    "def Create_New_Dictionary(sparseVec, original_dict):\n",
    "    # Converting Bag of Words ID in sparseVec into a list of Tokens \n",
    "    # E.g. list of \"list of string\" e.g. [['SMU','SU'],['Graduate','Wow']]\n",
    "    tokenized_list = [[original_dict.get(tup[0]) for tup in doc] for doc in sparseVec] \n",
    "    return gensim.corpora.Dictionary(tokenized_list)\n",
    "\n",
    "# Function to create new Sparse Vector based on the new dictionary \n",
    "def Create_New_Sparse_Vector(sparseVec, new_dictionary, old_dictionary):    \n",
    "    # Inverting Dictionary Key and Value for new_dictionary for easier retrieval\n",
    "    # From [{word_id : word}] to [{word : word_id}]\n",
    "    inverted_dict = dict(zip(new_dictionary.values(), new_dictionary.keys()))\n",
    "    new_sparseVec = []\n",
    "    for doc in sparseVec:\n",
    "        new_doc = []\n",
    "        for tup in doc:\n",
    "            word = old_dictionary.get(tup[0]) # retrieve word from old_dictionary          \n",
    "            new_doc.append((inverted_dict.get(word),tup[1]))\n",
    "        new_sparseVec.append(new_doc)\n",
    "    return new_sparseVec"
   ]
  },
  {
   "cell_type": "code",
   "execution_count": 9,
   "metadata": {},
   "outputs": [],
   "source": [
    "# Sparse Vector with top-N TF-IDF words from each document. \n",
    "# Keep in mind that this contains Word ID of the previous Dictionary  \n",
    "extracted_SparseVec_train = Extract_Doc_Top_N_Tfidf_Words(SparseVec_train, 30) \n",
    "\n",
    "# Creating new set of Dictionary  \n",
    "new_dict_train = Create_New_Dictionary(extracted_SparseVec_train, dict_train)\n",
    "\n",
    "# Updating Sparse Vector's word ID \n",
    "new_SparseVec_train = Create_New_Sparse_Vector(extracted_SparseVec_train, new_dict_train, dict_train)\n",
    "\n",
    "# Transforming Sparse Vector into np array to find optimal K \n",
    "train_nparray = gensim.matutils.corpus2dense(new_SparseVec_train, len(new_dict_train))"
   ]
  },
  {
   "cell_type": "code",
   "execution_count": 10,
   "metadata": {},
   "outputs": [
    {
     "name": "stdout",
     "output_type": "stream",
     "text": [
      "18055\n"
     ]
    }
   ],
   "source": [
    "# Printing Number of Features\n",
    "print(len(new_dict_train))"
   ]
  },
  {
   "cell_type": "markdown",
   "metadata": {},
   "source": [
    "#### Creating a cluster model"
   ]
  },
  {
   "cell_type": "code",
   "execution_count": 11,
   "metadata": {},
   "outputs": [],
   "source": [
    "num_tokens = len(new_dict_train.token2id)\n",
    "clusters_train = k_means.k_means(new_SparseVec_train, num_tokens, 75)"
   ]
  },
  {
   "cell_type": "code",
   "execution_count": 13,
   "metadata": {},
   "outputs": [],
   "source": [
    "def covert_to_word_vector(vector, dictionary):    \n",
    "    new_word_doc = []\n",
    "    for tup in vector:\n",
    "        word = dictionary.get(tup[0]) # retrieve word from old_dictionary          \n",
    "        new_word_doc.append((word,tup[1]))\n",
    "    return new_word_doc  "
   ]
  },
  {
   "cell_type": "code",
   "execution_count": 14,
   "metadata": {},
   "outputs": [
    {
     "name": "stdout",
     "output_type": "stream",
     "text": [
      "Cluster  1  :\n",
      "Top Frequency : [['viru', 10], ['vaccin', 10], ['flu', 8], ['diseas', 7], ['immun', 6], ['outbreak', 6], ['pandem', 6], ['mosquito', 5], ['drug', 5], ['malaria', 5], ['spread', 5], ['virus', 5], ['bird', 5], ['infect', 5], ['epidem', 5], ['genet', 4], ['tamiflu', 3], ['hiv', 3], ['treatment', 3], ['transmiss', 3], ['health', 3], ['cell', 3], ['speci', 3], ['ebola', 3], ['pathogen', 3], ['data', 3], ['blood', 3], ['dose', 3], ['polio', 3], ['malari', 3]] \n",
      "\n",
      "Cluster  2  :\n",
      "Top Frequency : [['climat', 18], ['carbon', 13], ['invest', 8], ['emiss', 8], ['energi', 7], ['greenhous', 6], ['nigeria', 6], ['countri', 6], ['crisi', 5], ['africa', 5], ['heat', 5], ['atmospher', 5], ['fossil', 5], ['ice', 5], ['republican', 4], ['ecosystem', 4], ['forest', 4], ['economi', 4], ['sustain', 4], ['capit', 4], ['renew', 4], ['african', 4], ['temperatur', 3], ['fuel', 3], ['warmer', 3], ['al', 3], ['aid', 3], ['heart', 3], ['resourc', 3], ['coal', 3]] \n",
      "\n",
      "Cluster  3  :\n",
      "Top Frequency : [['univers', 23], ['galaxi', 18], ['star', 14], ['particl', 11], ['telescop', 11], ['quantum', 11], ['space', 8], ['light', 8], ['theori', 7], ['dark', 7], ['earth', 7], ['atom', 7], ['hole', 6], ['sun', 6], ['monkey', 6], ['einstein', 6], ['energi', 6], ['billion', 6], ['orbit', 5], ['cage', 5], ['bang', 5], ['planet', 5], ['graviti', 5], ['cosmologist', 4], ['describ', 4], ['ring', 4], ['equat', 4], ['sky', 4], ['black', 4], ['electromagnet', 4]] \n",
      "\n",
      "Cluster  4  :\n",
      "Top Frequency : [['earth', 18], ['mar', 12], ['planet', 12], ['nuclear', 8], ['moon', 8], ['orbit', 7], ['surfac', 7], ['space', 6], ['dinosaur', 6], ['atmospher', 6], ['solar', 6], ['asteroid', 5], ['astronaut', 5], ['saturn', 5], ['rock', 5], ['weapon', 5], ['nasa', 5], ['water', 5], ['radiat', 5], ['rocket', 5], ['mission', 4], ['crater', 4], ['spacecraft', 4], ['ice', 4], ['cave', 4], ['mile', 4], ['rex', 3], ['kilomet', 3], ['threat', 3], ['miner', 3]] \n",
      "\n",
      "Cluster  5  :\n",
      "Top Frequency : [['film', 12], ['storytel', 11], ['stori', 10], ['charact', 4], ['book', 4], ['movi', 4], ['filmmak', 4], ['camera', 3], ['african', 3], ['audienc', 2], ['fiction', 2], ['shakespear', 2], ['literatur', 2], ['shot', 2], ['palestinian', 2], ['dvd', 2], ['featur', 2], ['bond', 2], ['iraq', 2], ['africa', 2], ['broadcast', 2], ['ship', 2], ['radio', 2], ['toy', 2], ['israel', 2], ['love', 2], ['war', 2], ['worthi', 2], ['soldier', 2], ['vh', 2]] \n",
      "\n",
      "Cluster  6  :\n",
      "Top Frequency : [['leg', 12], ['disabl', 7], ['feet', 4], ['shoe', 4], ['border', 3], ['ami', 3], ['anim', 3], ['inspir', 3], ['bolt', 2], ['lebanon', 2], ['rhex', 2], ['sprinter', 2], ['nake', 2], ['bomb', 2], ['dog', 2], ['toe', 2], ['wheelchair', 2], ['gecko', 2], ['glue', 2], ['limb', 2], ['son', 2], ['porn', 2], ['robot', 2], ['crab', 2], ['prosthes', 2], ['prosthet', 2], ['war', 2], ['pair', 2], ['ankl', 2], ['cockroach', 2]] \n",
      "\n",
      "Cluster  7  :\n",
      "Top Frequency : [['ocean', 21], ['fish', 14], ['coral', 13], ['sea', 12], ['reef', 10], ['shark', 7], ['marin', 7], ['tag', 6], ['planet', 6], ['anim', 6], ['fisheri', 6], ['underwat', 5], ['alga', 5], ['climat', 5], ['speci', 5], ['plankton', 4], ['tuna', 4], ['feed', 4], ['protein', 4], ['pacif', 4], ['sampl', 4], ['deep', 3], ['plastic', 3], ['whale', 3], ['boat', 3], ['carbon', 3], ['habitat', 3], ['jellyfish', 3], ['island', 3], ['slime', 3]] \n",
      "\n",
      "Cluster  8  :\n",
      "Top Frequency : [['prison', 15], ['wrong', 5], ['justic', 5], ['incarcer', 4], ['moral', 4], ['crime', 4], ['inmat', 4], ['polic', 3], ['opinion', 3], ['offend', 3], ['correct', 3], ['said', 3], ['toni', 3], ['commit', 3], ['parol', 2], ['women', 2], ['punk', 2], ['probat', 2], ['program', 2], ['janitor', 2], ['judg', 2], ['confin', 2], ['sent', 2], ['poet', 2], ['plato', 2], ['convict', 2], ['cell', 2], ['legal', 2], ['fewer', 2], ['ethic', 2]] \n",
      "\n",
      "Cluster  9  :\n",
      "Top Frequency : [['babi', 13], ['mother', 7], ['pregnant', 6], ['voic', 5], ['birth', 5], ['women', 4], ['children', 4], ['stress', 3], ['sieg', 3], ['syndrom', 3], ['health', 3], ['war', 3], ['born', 3], ['devic', 3], ['data', 3], ['pregnanc', 3], ['parent', 3], ['sampl', 3], ['childbirth', 3], ['delus', 2], ['disord', 2], ['newborn', 2], ['temperatur', 2], ['child', 2], ['simplic', 2], ['indic', 2], ['incub', 2], ['syria', 2], ['cost', 2], ['hormon', 2]] \n",
      "\n",
      "Cluster  10  :\n",
      "Top Frequency : [['arab', 7], ['polic', 6], ['nonviol', 5], ['regim', 4], ['egypt', 4], ['letter', 3], ['women', 3], ['humor', 3], ['palestinian', 3], ['tahrir', 3], ['campaign', 3], ['egyptian', 3], ['win', 3], ['israel', 3], ['revolut', 3], ['govern', 3], ['arrest', 3], ['west', 3], ['mubarak', 3], ['budru', 2], ['actor', 2], ['translat', 2], ['detain', 2], ['tunisia', 2], ['offic', 2], ['english', 2], ['gaza', 2], ['movement', 2], ['militari', 2], ['region', 2]] \n",
      "\n",
      "Cluster  11  :\n",
      "Top Frequency : [['spider', 7], ['silk', 7], ['fiber', 4], ['print', 4], ['glass', 3], ['materi', 3], ['web', 3], ['biolog', 3], ['printer', 2], ['assembl', 2], ['function', 2], ['microscop', 2], ['structur', 2], ['cocoon', 2], ['meteorit', 2], ['space', 2], ['design', 2], ['book', 2], ['penicillin', 2], ['tissu', 2], ['natur', 2], ['mite', 2], ['protein', 2], ['architectur', 2], ['bug', 2], ['librari', 2], ['fruit', 2], ['stiff', 2], ['gland', 2], ['biodegrad', 1]] \n",
      "\n",
      "Cluster  12  :\n",
      "Top Frequency : [['music', 31], ['musician', 10], ['play', 8], ['sound', 6], ['orchestra', 6], ['drum', 5], ['video', 5], ['listen', 5], ['instrument', 4], ['bass', 4], ['player', 4], ['conductor', 4], ['jazz', 4], ['compos', 4], ['perform', 4], ['song', 4], ['awar', 3], ['piec', 3], ['tune', 3], ['band', 3], ['soundscap', 3], ['trust', 3], ['sing', 3], ['creativ', 3], ['pleas', 3], ['ah', 3], ['beethoven', 3], ['improvis', 3], ['voic', 3], ['art', 3]] \n",
      "\n",
      "Cluster  13  :\n",
      "Top Frequency : [['food', 22], ['plant', 15], ['farmer', 8], ['eat', 7], ['diet', 6], ['pollin', 6], ['bee', 6], ['garden', 6], ['crop', 6], ['agricultur', 5], ['flower', 5], ['grow', 5], ['beekeep', 4], ['ingredi', 4], ['cook', 4], ['seed', 4], ['citi', 4], ['hive', 4], ['water', 4], ['feed', 4], ['meal', 4], ['school', 4], ['farm', 4], ['genet', 4], ['pollen', 4], ['movement', 3], ['coloni', 3], ['broccoli', 3], ['percent', 3], ['hunger', 3]] \n",
      "\n",
      "Cluster  14  :\n",
      "Top Frequency : [['metaphor', 9], ['relationship', 4], ['age', 4], ['staircas', 3], ['neural', 3], ['lifespan', 3], ['parent', 3], ['homo', 2], ['audienc', 2], ['damag', 2], ['multilevel', 2], ['x', 2], ['tribe', 2], ['rider', 2], ['mice', 2], ['boat', 2], ['select', 2], ['sacred', 2], ['equat', 2], ['religi', 2], ['religion', 2], ['caus', 2], ['group', 2], ['brain', 2], ['memori', 2], ['hive', 2], ['transcend', 2], ['selfish', 2], ['third', 2], ['profan', 2]] \n",
      "\n",
      "Cluster  15  :\n",
      "Top Frequency : [['govern', 16], ['global', 10], ['power', 9], ['poem', 7], ['law', 7], ['institut', 7], ['nation', 6], ['citizen', 6], ['polit', 5], ['activist', 5], ['factori', 4], ['secur', 4], ['war', 4], ['ethic', 4], ['polici', 4], ['surveil', 4], ['compani', 4], ['china', 4], ['climat', 4], ['bureaucraci', 3], ['poverti', 3], ['resourc', 3], ['energi', 3], ['legisl', 3], ['legal', 3], ['court', 3], ['servic', 3], ['treati', 3], ['space', 3], ['electr', 3]] \n",
      "\n",
      "Cluster  16  :\n",
      "Top Frequency : [['ted', 14], ['word', 6], ['summari', 4], ['worth', 3], ['brain', 3], ['sum', 3], ['speaker', 3], ['okay', 3], ['laughter', 3], ['honest', 2], ['topic', 2], ['women', 2], ['uh', 2], ['shame', 2], ['dictionari', 2], ['color', 2], ['hawn', 2], ['pictur', 2], ['petri', 2], ['pleas', 2], ['fail', 2], ['vulner', 2], ['checklist', 2], ['hat', 2], ['econom', 2], ['websit', 2], ['goldi', 2], ['youtub', 2], ['jone', 2], ['tweet', 2]] \n",
      "\n",
      "Cluster  17  :\n",
      "Top Frequency : [['brain', 42], ['neuron', 11], ['water', 8], ['memori', 8], ['behavior', 7], ['illus', 7], ['devic', 7], ['self', 6], ['mental', 6], ['control', 6], ['okay', 6], ['cortex', 6], ['pattern', 6], ['patient', 6], ['mri', 5], ['imag', 5], ['neurosci', 5], ['inform', 5], ['cognit', 5], ['cook', 4], ['love', 4], ['comput', 4], ['stress', 4], ['sleep', 4], ['scan', 4], ['valu', 4], ['sound', 4], ['watch', 4], ['predict', 4], ['region', 4]] \n",
      "\n",
      "Cluster  18  :\n",
      "Top Frequency : [['comput', 17], ['paper', 6], ['icon', 5], ['object', 5], ['interfac', 5], ['girl', 4], ['brows', 4], ['interact', 4], ['imag', 4], ['physic', 3], ['english', 3], ['area', 3], ['algorithm', 3], ['click', 3], ['india', 3], ['self', 3], ['children', 3], ['machin', 3], ['scienc', 3], ['delhi', 3], ['teacher', 3], ['desktop', 3], ['pile', 3], ['tool', 3], ['mous', 3], ['gestur', 3], ['googl', 3], ['text', 2], ['percept', 2], ['hole', 2]] \n",
      "\n",
      "Cluster  19  :\n",
      "Top Frequency : [['iran', 5], ['iranian', 5], ['tehran', 4], ['war', 2], ['iraq', 2], ['jewish', 2], ['god', 2], ['east', 2], ['isra', 2], ['ideolog', 2], ['everybodi', 2], ['ahmadinejad', 2], ['israel', 2], ['palestin', 2], ['king', 2], ['persia', 2], ['polit', 2], ['tsunami', 1], ['wildlif', 1], ['decis', 1], ['sang', 1], ['weep', 1], ['equilibrium', 1], ['lebanon', 1], ['michal', 1], ['minus', 1], ['almighti', 1], ['western', 1], ['post', 1], ['artist', 1]] \n",
      "\n",
      "Cluster  20  :\n",
      "Top Frequency : [['gay', 6], ['translat', 4], ['english', 4], ['languag', 4], ['movement', 3], ['lesbian', 3], ['marriag', 3], ['stewart', 3], ['test', 2], ['lgbt', 2], ['comedi', 2], ['georg', 2], ['internet', 2], ['joel', 2], ['bisexu', 2], ['book', 2], ['vote', 2], ['artist', 2], ['cartoon', 2], ['freedom', 2], ['viewer', 2], ['transgend', 2], ['arab', 2], ['court', 2], ['suprem', 2], ['sentenc', 2], ['heterosexu', 1], ['ticker', 1], ['yell', 1], ['whistl', 1]] \n",
      "\n",
      "Cluster  21  :\n",
      "Top Frequency : [['mathematician', 9], ['math', 9], ['copyright', 8], ['mathemat', 8], ['content', 5], ['revenu', 5], ['economi', 4], ['algorithm', 4], ['movi', 4], ['data', 4], ['employ', 4], ['copi', 3], ['structur', 3], ['music', 3], ['piraci', 3], ['formula', 3], ['pirat', 3], ['cultur', 3], ['digit', 3], ['norm', 3], ['video', 3], ['song', 3], ['job', 3], ['teach', 3], ['televis', 2], ['rington', 2], ['graph', 2], ['media', 2], ['loss', 2], ['curv', 2]] \n",
      "\n",
      "Cluster  22  :\n",
      "Top Frequency : [['patient', 29], ['medic', 13], ['surgeri', 13], ['physician', 11], ['hospit', 10], ['doctor', 10], ['cancer', 10], ['surgeon', 9], ['care', 7], ['treatment', 7], ['clinic', 6], ['healthcar', 5], ['drug', 5], ['health', 5], ['medicin', 5], ['lung', 5], ['nurs', 5], ['prostat', 4], ['chemotherapi', 4], ['oper', 4], ['palli', 4], ['data', 4], ['diseas', 4], ['tumor', 4], ['surgic', 4], ['procedur', 3], ['pain', 3], ['brain', 3], ['treat', 3], ['symptom', 3]] \n",
      "\n",
      "Cluster  23  :\n",
      "Top Frequency : [['game', 26], ['player', 9], ['play', 7], ['video', 6], ['photograph', 5], ['warcraft', 4], ['slave', 4], ['shot', 4], ['gamer', 4], ['dot', 3], ['win', 3], ['brain', 3], ['interact', 3], ['toy', 3], ['slaveri', 3], ['classroom', 3], ['action', 3], ['dollar', 3], ['teacher', 3], ['comput', 3], ['evolut', 3], ['technolog', 3], ['letter', 2], ['zero', 2], ['insight', 2], ['ball', 2], ['nintendo', 2], ['task', 2], ['dynam', 2], ['pictur', 2]] \n",
      "\n"
     ]
    },
    {
     "name": "stdout",
     "output_type": "stream",
     "text": [
      "Cluster  24  :\n",
      "Top Frequency : [['cell', 50], ['tissu', 15], ['cancer', 14], ['stem', 13], ['diseas', 13], ['patient', 11], ['drug', 10], ['bodi', 10], ['molecul', 10], ['tumor', 9], ['protein', 8], ['blood', 8], ['brain', 8], ['vessel', 7], ['anim', 7], ['genom', 7], ['lab', 7], ['treatment', 6], ['liver', 6], ['mous', 6], ['gene', 6], ['test', 6], ['neuron', 6], ['biolog', 6], ['pluripot', 5], ['grow', 5], ['dna', 5], ['trial', 5], ['therapi', 5], ['medicin', 5]] \n",
      "\n",
      "Cluster  25  :\n",
      "Top Frequency : [['diseas', 9], ['dad', 6], ['symptom', 5], ['origami', 5], ['love', 4], ['alzheim', 4], ['drug', 3], ['sheet', 3], ['wife', 3], ['prevent', 3], ['doctor', 3], ['patient', 3], ['cancer', 3], ['walk', 3], ['diagnos', 3], ['women', 2], ['test', 2], ['balanc', 2], ['monster', 2], ['clinic', 2], ['parkinson', 2], ['neurologist', 2], ['motiv', 2], ['dementia', 2], ['medic', 2], ['caregiv', 2], ['exercis', 2], ['trial', 2], ['brain', 2], ['motor', 2]] \n",
      "\n",
      "Cluster  26  :\n",
      "Top Frequency : [['car', 24], ['driver', 9], ['drive', 8], ['road', 8], ['vehicl', 7], ['wheel', 6], ['race', 6], ['traffic', 5], ['mile', 5], ['brake', 4], ['accid', 4], ['lane', 4], ['transport', 4], ['data', 4], ['price', 4], ['predict', 3], ['steer', 3], ['attempt', 3], ['racial', 3], ['citi', 3], ['less', 3], ['motor', 3], ['solv', 3], ['passeng', 3], ['gasolin', 3], ['devic', 3], ['john', 3], ['comput', 3], ['white', 3], ['emiss', 3]] \n",
      "\n",
      "Cluster  27  :\n",
      "Top Frequency : [['trust', 7], ['reput', 4], ['stranger', 4], ['consumpt', 3], ['transact', 3], ['guest', 3], ['airbnb', 3], ['lend', 3], ['bia', 2], ['financi', 2], ['aim', 2], ['trustworthi', 2], ['collabor', 2], ['blockchain', 2], ['rent', 2], ['consum', 2], ['marketplac', 2], ['bitcoin', 2], ['credit', 2], ['intermediari', 2], ['peer', 2], ['institut', 2], ['disclosur', 2], ['asset', 2], ['host', 2], ['bank', 2], ['stack', 2], ['ikea', 2], ['share', 2], ['distribut', 2]] \n",
      "\n",
      "Cluster  28  :\n",
      "Top Frequency : [['citi', 44], ['urban', 19], ['map', 18], ['neighborhood', 11], ['park', 9], ['mayor', 9], ['street', 7], ['space', 7], ['car', 7], ['water', 6], ['build', 6], ['transport', 6], ['bu', 6], ['york', 6], ['public', 5], ['walkabl', 5], ['pedestrian', 5], ['commun', 5], ['rio', 5], ['design', 5], ['sprawl', 5], ['slum', 5], ['sustain', 4], ['pari', 4], ['bike', 4], ['hous', 4], ['manhattan', 4], ['lane', 4], ['built', 4], ['california', 4]] \n",
      "\n",
      "Cluster  29  :\n",
      "Top Frequency : [['decept', 5], ['lie', 5], ['fake', 4], ['honest', 3], ['truth', 3], ['review', 3], ['magic', 3], ['trick', 3], ['puppet', 2], ['record', 2], ['write', 2], ['richer', 2], ['profil', 2], ['liar', 2], ['date', 2], ['mt', 2], ['accept', 2], ['cue', 2], ['data', 2], ['onlin', 2], ['email', 2], ['magician', 2], ['astroturf', 1], ['smile', 1], ['squeez', 1], ['somebodi', 1], ['robert', 1], ['letter', 1], ['anthrophoni', 1], ['openli', 1]] \n",
      "\n",
      "Cluster  30  :\n",
      "Top Frequency : [['violenc', 13], ['death', 12], ['war', 8], ['die', 5], ['kill', 5], ['soldier', 5], ['crime', 5], ['temptat', 4], ['peac', 4], ['funer', 4], ['victim', 4], ['burial', 4], ['local', 4], ['shoot', 4], ['gun', 4], ['bibl', 4], ['someon', 3], ['polic', 3], ['declin', 3], ['cemeteri', 3], ['decomposit', 3], ['dead', 3], ['crimin', 3], ['drug', 3], ['land', 3], ['health', 3], ['mortal', 3], ['bodi', 3], ['survey', 3], ['ritual', 3]] \n",
      "\n",
      "Cluster  31  :\n",
      "Top Frequency : [['kid', 31], ['school', 17], ['student', 16], ['teacher', 14], ['educ', 11], ['teach', 10], ['grade', 9], ['classroom', 8], ['learn', 8], ['class', 7], ['homework', 6], ['lectur', 5], ['trash', 5], ['parent', 5], ['tutor', 5], ['plastic', 4], ['dream', 4], ['district', 4], ['math', 4], ['children', 4], ['video', 4], ['girl', 3], ['korean', 3], ['univers', 3], ['poor', 3], ['mother', 3], ['door', 3], ['fail', 3], ['taught', 3], ['studi', 3]] \n",
      "\n",
      "Cluster  32  :\n",
      "Top Frequency : [['health', 13], ['poor', 10], ['toilet', 8], ['doctor', 7], ['poverti', 6], ['medic', 5], ['water', 5], ['healthcar', 4], ['smoke', 4], ['shower', 4], ['india', 4], ['sanit', 4], ['villag', 4], ['worker', 4], ['wast', 4], ['rural', 3], ['care', 3], ['clinic', 3], ['cook', 3], ['treatment', 3], ['behavior', 3], ['ill', 3], ['product', 3], ['ebola', 3], ['dung', 3], ['flush', 3], ['train', 3], ['nurs', 3], ['farmer', 3], ['patient', 3]] \n",
      "\n",
      "Cluster  33  :\n",
      "Top Frequency : [['compass', 15], ['emot', 7], ['compassion', 6], ['hate', 5], ['happi', 4], ['polit', 4], ['smile', 3], ['algorithm', 3], ['valu', 3], ['persuas', 3], ['god', 3], ['empathi', 3], ['argument', 3], ['attent', 2], ['framework', 2], ['audienc', 2], ['mail', 2], ['news', 2], ['psycholog', 2], ['dog', 2], ['care', 2], ['fun', 2], ['cannot', 2], ['enlighten', 2], ['mama', 2], ['cook', 2], ['select', 2], ['religi', 2], ['neg', 2], ['express', 2]] \n",
      "\n",
      "Cluster  34  :\n",
      "Top Frequency : [['clay', 4], ['school', 3], ['rain', 3], ['india', 3], ['build', 2], ['classroom', 2], ['season', 2], ['chile', 2], ['villag', 2], ['disast', 2], ['send', 2], ['children', 2], ['money', 2], ['ministri', 2], ['parent', 1], ['boss', 1], ['cup', 1], ['abacus', 1], ['rajan', 1], ['transfer', 1], ['falcon', 1], ['roof', 1], ['toilet', 1], ['duke', 1], ['mingl', 1], ['south', 1], ['afghanistan', 1], ['receiv', 1], ['cast', 1], ['tin', 1]] \n",
      "\n",
      "Cluster  35  :\n",
      "Top Frequency : [['male', 7], ['predat', 6], ['light', 6], ['femal', 6], ['anim', 6], ['sex', 5], ['skin', 5], ['squid', 4], ['bioluminesc', 4], ['color', 3], ['sea', 3], ['firefli', 3], ['insect', 3], ['submers', 3], ['alga', 3], ['jellyfish', 3], ['ocean', 3], ['dive', 3], ['flash', 3], ['optic', 2], ['deep', 2], ['vitamin', 2], ['glow', 2], ['metric', 2], ['biofuel', 2], ['water', 2], ['releas', 2], ['testosteron', 2], ['burglar', 2], ['ultraviolet', 2]] \n",
      "\n",
      "Cluster  36  :\n",
      "Top Frequency : [['autism', 12], ['autist', 7], ['disord', 3], ['diagnosi', 3], ['development', 3], ['children', 3], ['normal', 3], ['asperg', 3], ['child', 2], ['indoor', 2], ['grandin', 2], ['disabl', 2], ['clinic', 2], ['box', 2], ['pediatrician', 2], ['arrang', 2], ['brain', 2], ['brother', 2], ['kid', 2], ['gene', 2], ['preval', 2], ['contact', 2], ['genet', 2], ['vaccin', 2], ['tail', 2], ['diagnos', 2], ['cyclopt', 1], ['remi', 1], ['autismse', 1], ['mountain', 1]] \n",
      "\n",
      "Cluster  37  :\n",
      "Top Frequency : [['cooper', 7], ['choic', 6], ['choos', 4], ['option', 3], ['decis', 2], ['philosoph', 2], ['fund', 2], ['sticker', 2], ['europ', 2], ['metric', 2], ['detail', 2], ['express', 2], ['fair', 2], ['glacier', 2], ['econom', 2], ['complex', 2], ['store', 2], ['altruism', 2], ['brain', 2], ['reconcil', 2], ['inequ', 2], ['moral', 2], ['marri', 2], ['altruist', 2], ['matrix', 2], ['prefer', 2], ['empathi', 2], ['distress', 2], ['medit', 2], ['data', 2]] \n",
      "\n",
      "Cluster  38  :\n",
      "Top Frequency : [['rome', 5], ['pigeon', 5], ['page', 4], ['decis', 3], ['draw', 3], ['poster', 3], ['director', 2], ['marcu', 2], ['santa', 2], ['felt', 2], ['wall', 2], ['design', 2], ['exercis', 2], ['heaven', 2], ['plu', 2], ['saunter', 2], ['compani', 2], ['option', 2], ['dad', 2], ['donat', 2], ['art', 2], ['oculu', 2], ['visual', 2], ['pantheon', 2], ['della', 2], ['poland', 2], ['whatev', 2], ['picasso', 1], ['alberto', 1], ['wilson', 1]] \n",
      "\n",
      "Cluster  39  :\n",
      "Top Frequency : [['prayer', 4], ['jesu', 3], ['taliban', 3], ['boy', 3], ['afghanistan', 2], ['girl', 2], ['humbl', 2], ['closet', 2], ['afghan', 2], ['handsand', 1], ['ill', 1], ['malem', 1], ['text', 1], ['bugl', 1], ['droop', 1], ['everyon', 1], ['ray', 1], ['crazi', 1], ['jamison', 1], ['qaeda', 1], ['someon', 1], ['veil', 1], ['jammi', 1], ['sadik', 1], ['ensnar', 1], ['armor', 1], ['b', 1], ['combinator', 1], ['manuscript', 1], ['ferrari', 1]] \n",
      "\n",
      "Cluster  40  :\n",
      "Top Frequency : [['mill', 4], ['narr', 3], ['counti', 2], ['rubi', 2], ['student', 2], ['carnegi', 2], ['atta', 1], ['shred', 1], ['builder', 1], ['mobil', 1], ['chain', 1], ['prolifer', 1], ['toilet', 1], ['token', 1], ['oblig', 1], ['stat', 1], ['drill', 1], ['sequenc', 1], ['hayward', 1], ['dan', 1], ['owe', 1], ['aaa', 1], ['teacher', 1], ['hole', 1], ['asset', 1], ['cultiv', 1], ['motorola', 1], ['mellon', 1], ['enron', 1], ['ana', 1]] \n",
      "\n",
      "Cluster  41  :\n",
      "Top Frequency : [['muslim', 23], ['islam', 10], ['arab', 9], ['isi', 6], ['terrorist', 6], ['extremist', 5], ['terror', 5], ['east', 5], ['afghanistan', 4], ['war', 4], ['govern', 4], ['polit', 4], ['refuge', 4], ['attack', 4], ['mosqu', 3], ['journalist', 3], ['koran', 3], ['taliban', 3], ['democraci', 3], ['quran', 3], ['comedi', 3], ['conflict', 3], ['iraq', 3], ['religion', 3], ['middl', 3], ['muhammad', 3], ['group', 3], ['guy', 3], ['cultur', 3], ['bigotri', 3]] \n",
      "\n",
      "Cluster  42  :\n",
      "Top Frequency : [['sun', 13], ['solar', 12], ['light', 9], ['star', 9], ['planet', 7], ['moon', 5], ['sky', 5], ['earth', 5], ['telescop', 5], ['astronom', 5], ['orbit', 4], ['kepler', 4], ['energi', 4], ['air', 4], ['galaxi', 4], ['starlight', 3], ['hot', 3], ['lamp', 3], ['receiv', 3], ['jupit', 3], ['atmospher', 3], ['bulb', 3], ['scienc', 3], ['data', 3], ['subtl', 3], ['shadow', 3], ['cool', 3], ['comfort', 2], ['copernican', 2], ['univers', 2]] \n",
      "\n",
      "Cluster  43  :\n",
      "Top Frequency : [['architectur', 19], ['build', 12], ['architect', 10], ['space', 9], ['citi', 8], ['theater', 7], ['art', 7], ['design', 6], ['project', 6], ['artist', 6], ['perform', 5], ['museum', 5], ['client', 4], ['structur', 4], ['glass', 3], ['seri', 3], ['balconi', 3], ['site', 3], ['form', 3], ['floor', 3], ['artwork', 3], ['hole', 2], ['modul', 2], ['director', 2], ['public', 2], ['ballet', 2], ['fab', 2], ['danc', 2], ['dalla', 2], ['festiv', 2]] \n",
      "\n",
      "Cluster  44  :\n",
      "Top Frequency : [['leader', 14], ['leadership', 10], ['africa', 6], ['aircraft', 6], ['fli', 5], ['parachut', 5], ['helicopt', 4], ['aid', 4], ['land', 4], ['contin', 4], ['african', 4], ['ceo', 3], ['transform', 3], ['campaign', 3], ['design', 3], ['inform', 3], ['armi', 3], ['airplan', 3], ['combat', 3], ['helmet', 3], ['pilot', 3], ['join', 3], ['flight', 3], ['ghana', 3], ['mcchrystal', 2], ['ngo', 2], ['command', 2], ['firefight', 2], ['forc', 2], ['personnel', 2]] \n",
      "\n",
      "Cluster  45  :\n",
      "Top Frequency : [['digit', 12], ['site', 10], ['cloud', 6], ['internet', 4], ['data', 4], ['comput', 4], ['scan', 4], ['physic', 3], ['privaci', 3], ['browser', 3], ['shape', 3], ['tomb', 3], ['doug', 3], ['anonym', 3], ['machin', 3], ['partner', 3], ['fission', 2], ['grandfath', 2], ['threat', 2], ['laser', 2], ['trust', 2], ['magnet', 2], ['network', 2], ['pixel', 2], ['sky', 2], ['algorithm', 2], ['hack', 2], ['space', 2], ['citi', 2], ['egyptian', 2]] \n",
      "\n",
      "Cluster  46  :\n",
      "Top Frequency : [['religion', 6], ['religi', 5], ['emma', 4], ['god', 3], ['rabbi', 3], ['alex', 2], ['jewish', 2], ['rule', 2], ['church', 2], ['tradit', 2], ['christian', 2], ['argument', 2], ['atheist', 2], ['read', 2], ['capit', 2], ['judaism', 2], ['explor', 2], ['divis', 1], ['parent', 1], ['mar', 1], ['enorm', 1], ['hostil', 1], ['disciplinari', 1], ['lazaru', 1], ['mosqu', 1], ['textil', 1], ['golden', 1], ['weep', 1], ['torah', 1], ['discount', 1]] \n",
      "\n",
      "Cluster  47  :\n",
      "Top Frequency : [['design', 16], ['product', 4], ['materi', 3], ['stuff', 3], ['manufactur', 3], ['beauti', 3], ['object', 3], ['contemporari', 3], ['furnitur', 2], ['curv', 2], ['dispens', 2], ['custom', 2], ['aluminum', 2], ['launch', 2], ['phone', 2], ['street', 2], ['wheel', 2], ['valu', 2], ['ideo', 2], ['restaur', 2], ['light', 2], ['ok', 2], ['kid', 2], ['layer', 2], ['interior', 2], ['exhibit', 2], ['decor', 2], ['typefac', 2], ['billion', 2], ['data', 2]] \n",
      "\n"
     ]
    },
    {
     "name": "stdout",
     "output_type": "stream",
     "text": [
      "Cluster  48  :\n",
      "Top Frequency : [['speci', 9], ['homo', 4], ['africa', 4], ['object', 4], ['axe', 3], ['exchang', 3], ['trade', 3], ['fossil', 3], ['loui', 3], ['languag', 3], ['stone', 3], ['erectu', 3], ['wage', 2], ['crisi', 2], ['predict', 2], ['network', 2], ['transact', 2], ['ethiopia', 2], ['yolo', 2], ['algorithm', 2], ['encyclopedia', 2], ['econom', 2], ['lake', 2], ['upright', 2], ['water', 2], ['spear', 2], ['earth', 2], ['contin', 2], ['adam', 2], ['bone', 2]] \n",
      "\n",
      "Cluster  49  :\n",
      "Top Frequency : [['depress', 3], ['fear', 3], ['compani', 3], ['procrastin', 3], ['doubt', 2], ['script', 2], ['deadlin', 2], ['treatment', 2], ['electroshock', 2], ['leisur', 2], ['faith', 2], ['therapi', 2], ['creativ', 2], ['sad', 2], ['pincho', 1], ['playground', 1], ['panic', 1], ['decis', 1], ['corner', 1], ['afraid', 1], ['bed', 1], ['owner', 1], ['truth', 1], ['browser', 1], ['onstag', 1], ['fuck', 1], ['everyon', 1], ['text', 1], ['undeciph', 1], ['america', 1]] \n",
      "\n",
      "Cluster  50  :\n",
      "Top Frequency : [['hiv', 11], ['market', 8], ['aid', 6], ['condom', 6], ['infect', 6], ['sex', 6], ['brand', 5], ['drug', 5], ['treatment', 5], ['sell', 5], ['africa', 4], ['epidem', 4], ['patient', 4], ['test', 3], ['viru', 3], ['transmiss', 3], ['compani', 3], ['health', 3], ['dollar', 3], ['worker', 3], ['economist', 2], ['buy', 2], ['growth', 2], ['women', 2], ['zimbabwean', 2], ['forc', 2], ['financi', 2], ['nike', 2], ['saharan', 2], ['disproportion', 2]] \n",
      "\n",
      "Cluster  51  :\n",
      "Top Frequency : [['dolphin', 6], ['whistl', 3], ['sound', 3], ['whale', 3], ['acoust', 2], ['frequenc', 2], ['ocean', 2], ['underwat', 2], ['water', 2], ['nois', 2], ['boat', 2], ['calf', 2], ['ecologist', 1], ['paint', 1], ['tromp', 1], ['sort', 1], ['scarf', 1], ['moray', 1], ['grouper', 1], ['l', 1], ['sang', 1], ['keyboard', 1], ['natur', 1], ['peanut', 1], ['oeil', 1], ['park', 1], ['pleasant', 1], ['cymat', 1], ['courtship', 1], ['joy', 1]] \n",
      "\n",
      "Cluster  52  :\n",
      "Top Frequency : [['robot', 32], ['machin', 8], ['cord', 7], ['comput', 6], ['interact', 5], ['autonom', 5], ['charact', 4], ['intellig', 4], ['ai', 4], ['motion', 4], ['spinal', 4], ['bodi', 4], ['coordin', 4], ['human', 4], ['drone', 4], ['sensor', 4], ['fiction', 3], ['leg', 3], ['stimul', 3], ['wall', 3], ['demo', 3], ['humanoid', 3], ['neighbor', 3], ['social', 3], ['fli', 3], ['applic', 3], ['injuri', 3], ['passiv', 3], ['anim', 3], ['paralyz', 3]] \n",
      "\n",
      "Cluster  53  :\n",
      "Top Frequency : [['girl', 16], ['women', 10], ['boy', 4], ['parent', 4], ['smile', 3], ['rape', 3], ['dad', 3], ['men', 3], ['sexual', 3], ['father', 3], ['pencil', 3], ['teen', 2], ['poem', 2], ['mother', 2], ['danc', 2], ['daughter', 2], ['skip', 2], ['laptop', 2], ['truth', 2], ['marriag', 2], ['postur', 2], ['ca', 2], ['woman', 2], ['teenag', 2], ['compani', 2], ['marri', 2], ['sister', 2], ['legal', 2], ['sunitha', 2], ['villag', 2]] \n",
      "\n",
      "Cluster  54  :\n",
      "Top Frequency : [['blah', 11], ['subway', 3], ['novel', 3], ['mysteri', 3], ['sulfid', 2], ['girl', 2], ['protest', 2], ['danc', 2], ['crimin', 2], ['phone', 2], ['write', 2], ['tom', 2], ['hydrogen', 2], ['guy', 2], ['banker', 2], ['mammal', 2], ['compani', 2], ['product', 2], ['bank', 2], ['fraud', 2], ['clifford', 1], ['highsmith', 1], ['succumb', 1], ['text', 1], ['peanut', 1], ['jaw', 1], ['tull', 1], ['physic', 1], ['asteroid', 1], ['oop', 1]] \n",
      "\n",
      "Cluster  55  :\n",
      "Top Frequency : [['tree', 20], ['forest', 19], ['plant', 7], ['carbon', 6], ['speci', 6], ['amazon', 5], ['ecosystem', 5], ['river', 5], ['area', 4], ['branch', 4], ['deforest', 4], ['anim', 4], ['eleph', 4], ['rainforest', 4], ['root', 4], ['soil', 4], ['desert', 3], ['dens', 3], ['tropic', 3], ['water', 3], ['park', 3], ['stori', 3], ['nativ', 3], ['shoot', 3], ['fire', 3], ['conserv', 3], ['rebuild', 3], ['brazil', 3], ['peru', 2], ['mountain', 2]] \n",
      "\n",
      "Cluster  56  :\n",
      "Top Frequency : [['machin', 11], ['intellig', 5], ['comput', 5], ['human', 5], ['scenario', 4], ['ai', 4], ['artifici', 4], ['superintellig', 3], ['misus', 3], ['data', 3], ['smarter', 3], ['build', 2], ['existenti', 2], ['neumann', 2], ['game', 2], ['music', 2], ['novel', 2], ['enhanc', 2], ['memori', 2], ['von', 2], ['electr', 2], ['valu', 2], ['web', 2], ['risk', 2], ['fire', 2], ['tool', 2], ['googl', 2], ['wipe', 2], ['enabl', 2], ['ibm', 2]] \n",
      "\n",
      "Cluster  57  :\n",
      "Top Frequency : [['success', 3], ['odd', 2], ['waitress', 2], ['spoon', 2], ['spirit', 2], ['failur', 2], ['advers', 2], ['entrepreneur', 2], ['branson', 1], ['italian', 1], ['diversityinc', 1], ['exam', 1], ['actuari', 1], ['decis', 1], ['gin', 1], ['budg', 1], ['trauma', 1], ['esper', 1], ['meritocrat', 1], ['kenyan', 1], ['thesauru', 1], ['somebodi', 1], ['maori', 1], ['comparison', 1], ['economist', 1], ['fail', 1], ['normalci', 1], ['tomato', 1], ['servant', 1], ['meritocraci', 1]] \n",
      "\n",
      "Cluster  58  :\n",
      "Top Frequency : [['ice', 15], ['pole', 10], ['antarctica', 8], ['north', 6], ['water', 6], ['south', 5], ['arctic', 5], ['glacier', 5], ['melt', 5], ['expedit', 4], ['feet', 4], ['ship', 4], ['journey', 4], ['fli', 4], ['meter', 4], ['drag', 3], ['sea', 3], ['altitud', 3], ['scott', 3], ['lake', 3], ['coast', 3], ['everest', 3], ['swim', 3], ['minu', 3], ['climat', 3], ['snow', 3], ['polar', 3], ['winter', 3], ['pilot', 3], ['station', 3]] \n",
      "\n",
      "Cluster  59  :\n",
      "Top Frequency : [['happi', 17], ['happier', 6], ['data', 4], ['unhappi', 3], ['emot', 3], ['wander', 3], ['stori', 3], ['spend', 3], ['decis', 2], ['bing', 2], ['smartphon', 2], ['ceo', 2], ['focus', 2], ['mind', 2], ['subway', 2], ['feel', 2], ['coffe', 2], ['richer', 2], ['b', 2], ['netflix', 2], ['websit', 2], ['magazin', 2], ['experi', 2], ['gene', 2], ['diari', 2], ['medit', 2], ['opposit', 2], ['obsess', 2], ['pleasur', 2], ['cluster', 2]] \n",
      "\n",
      "Cluster  60  :\n",
      "Top Frequency : [['spice', 1], ['eduardo', 1], ['louder', 1], ['fenc', 1], ['jew', 1], ['tast', 1], ['fig', 1], ['delici', 1], ['foie', 1], ['liver', 1], ['gavag', 1], ['pharaoh', 1], ['menu', 1], ['insult', 1], ['feed', 1], ['confit', 1], ['pepper', 1], ['bush', 1], ['wild', 1], ['accus', 1], ['gra', 1], ['extremadura', 1], ['farm', 1], ['paddock', 1], ['clap', 1], ['lupin', 1], ['gees', 1], ['goos', 1], ['ironi', 1], ['chef', 1]] \n",
      "\n",
      "Cluster  61  :\n",
      "Top Frequency : [['editor', 6], ['magazin', 4], ['mic', 4], ['design', 3], ['author', 3], ['letter', 2], ['usag', 2], ['copi', 2], ['humor', 2], ['memoir', 2], ['dictionari', 2], ['record', 2], ['ed', 2], ['spell', 2], ['reform', 2], ['clip', 2], ['breath', 2], ['queri', 2], ['campaign', 2], ['pronunci', 2], ['underwat', 2], ['graphic', 2], ['book', 2], ['justic', 2], ['cartoon', 2], ['stori', 2], ['cartoonist', 2], ['flap', 2], ['style', 2], ['languag', 2]] \n",
      "\n",
      "Cluster  62  :\n",
      "Top Frequency : [['blind', 11], ['eye', 3], ['brain', 3], ['realiti', 3], ['sight', 3], ['montana', 3], ['x', 2], ['smartphon', 2], ['ignor', 2], ['disabl', 2], ['bucket', 2], ['pear', 2], ['leg', 2], ['street', 2], ['puzzl', 2], ['kenya', 2], ['access', 2], ['senior', 2], ['book', 2], ['ray', 2], ['freedom', 2], ['fear', 2], ['beer', 2], ['exhilar', 2], ['data', 2], ['stage', 2], ['bless', 2], ['cane', 2], ['fish', 2], ['okay', 2]] \n",
      "\n",
      "Cluster  63  :\n",
      "Top Frequency : [['visual', 3], ['inform', 2], ['dilli', 1], ['leverag', 1], ['smurf', 1], ['academi', 1], ['swindl', 1], ['modal', 1], ['sequenti', 1], ['georg', 1], ['guggenheim', 1], ['hur', 1], ['crowd', 1], ['council', 1], ['classroom', 1], ['megalomaniac', 1], ['pattern', 1], ['illus', 1], ['maharaja', 1], ['dalli', 1], ['scrape', 1], ['wonderland', 1], ['design', 1], ['doctor', 1], ['budget', 1], ['avers', 1], ['pour', 1], ['supplement', 1], ['contribut', 1], ['definit', 1]] \n",
      "\n",
      "Cluster  64  :\n",
      "Top Frequency : [['internet', 13], ['chines', 12], ['china', 11], ['media', 4], ['com', 4], ['email', 4], ['twitter', 3], ['asia', 3], ['network', 3], ['messag', 3], ['blog', 3], ['govern', 3], ['router', 3], ['web', 3], ['facebook', 3], ['data', 3], ['user', 3], ['censorship', 3], ['countri', 3], ['server', 2], ['industri', 2], ['europ', 2], ['democraci', 2], ['collabor', 2], ['beef', 2], ['vulner', 2], ['shanghai', 2], ['citi', 2], ['egyptian', 2], ['intellig', 2]] \n",
      "\n",
      "Cluster  65  :\n",
      "Top Frequency : [['electron', 4], ['tattoo', 4], ['appl', 3], ['immort', 3], ['dj', 2], ['die', 2], ['design', 2], ['tweet', 2], ['rice', 2], ['stori', 2], ['season', 2], ['lesson', 2], ['paper', 2], ['decis', 1], ['golden', 1], ['narcissu', 1], ['rainfal', 1], ['build', 1], ['canal', 1], ['ferrou', 1], ['printer', 1], ['submerg', 1], ['twitter', 1], ['piec', 1], ['describ', 1], ['republ', 1], ['characterist', 1], ['existenti', 1], ['usag', 1], ['bia', 1]] \n",
      "\n",
      "Cluster  66  :\n",
      "Top Frequency : [['dna', 18], ['genom', 15], ['genet', 10], ['sequenc', 9], ['cell', 9], ['code', 7], ['gene', 7], ['strand', 6], ['protein', 6], ['chromosom', 6], ['molecul', 6], ['letter', 5], ['dog', 5], ['diseas', 5], ['molecular', 4], ['blood', 4], ['pattern', 4], ['comput', 4], ['cancer', 4], ['bacteria', 3], ['copi', 3], ['vial', 3], ['mutat', 3], ['synthes', 3], ['detect', 3], ['target', 3], ['speci', 3], ['machin', 3], ['helix', 3], ['pathogen', 3]] \n",
      "\n",
      "Cluster  67  :\n",
      "Top Frequency : [['social', 16], ['growth', 11], ['gdp', 10], ['countri', 9], ['invest', 7], ['economi', 7], ['china', 7], ['brazil', 7], ['incom', 6], ['percent', 5], ['progress', 5], ['africa', 5], ['compani', 5], ['capita', 5], ['global', 5], ['asia', 4], ['capit', 4], ['health', 4], ['debt', 4], ['india', 4], ['anim', 4], ['product', 4], ['data', 4], ['advertis', 4], ['famili', 4], ['demograph', 3], ['buy', 3], ['media', 3], ['market', 3], ['consum', 3]] \n",
      "\n",
      "Cluster  68  :\n",
      "Top Frequency : [['camel', 4], ['audio', 3], ['black', 2], ['creatur', 2], ['fat', 2], ['collagen', 2], ['north', 2], ['hump', 2], ['desert', 2], ['sand', 2], ['classifi', 1], ['natalia', 1], ['tromp', 1], ['detector', 1], ['side', 1], ['bellow', 1], ['nanocrystallin', 1], ['lb', 1], ['backpack', 1], ['stranger', 1], ['untouch', 1], ['abstract', 1], ['hole', 1], ['rybczynski', 1], ['evoc', 1], ['ln', 1], ['retrac', 1], ['sake', 1], ['syrian', 1], ['kipl', 1]] \n",
      "\n"
     ]
    },
    {
     "name": "stdout",
     "output_type": "stream",
     "text": [
      "Cluster  69  :\n",
      "Top Frequency : [['women', 43], ['men', 21], ['woman', 13], ['girl', 9], ['rape', 7], ['sex', 7], ['gender', 6], ['femal', 6], ['sexual', 6], ['violenc', 5], ['equal', 5], ['media', 4], ['pm', 4], ['daughter', 4], ['heart', 4], ['children', 4], ['report', 4], ['mutil', 4], ['male', 4], ['femin', 4], ['countri', 4], ['invest', 3], ['trend', 3], ['acumen', 3], ['vagina', 3], ['campaign', 3], ['feminist', 3], ['son', 3], ['agn', 3], ['afghanistan', 3]] \n",
      "\n",
      "Cluster  70  :\n",
      "Top Frequency : [['oil', 9], ['penguin', 8], ['energi', 5], ['whale', 4], ['carbon', 4], ['barrel', 3], ['fuel', 3], ['coal', 3], ['spill', 3], ['fish', 3], ['larva', 2], ['nuclear', 2], ['plume', 2], ['mexico', 2], ['nest', 2], ['ga', 2], ['cost', 2], ['gulf', 2], ['stuff', 2], ['effici', 2], ['save', 2], ['clean', 2], ['water', 2], ['marin', 2], ['petroleum', 2], ['vehicl', 2], ['auto', 2], ['bird', 2], ['hydrocarbon', 2], ['park', 2]] \n",
      "\n",
      "Cluster  71  :\n",
      "Top Frequency : [['indian', 6], ['pakistan', 5], ['market', 3], ['india', 3], ['innov', 3], ['global', 3], ['sri', 2], ['growth', 2], ['nepales', 2], ['tide', 2], ['internet', 2], ['capit', 2], ['compani', 2], ['incom', 2], ['sector', 2], ['pakistani', 2], ['risk', 2], ['lankan', 2], ['paint', 2], ['west', 2], ['entrepreneur', 2], ['collector', 1], ['implic', 1], ['demograph', 1], ['build', 1], ['philosoph', 1], ['breakfast', 1], ['public', 1], ['collaps', 1], ['motorboat', 1]] \n",
      "\n",
      "Cluster  72  :\n",
      "Top Frequency : [['paint', 16], ['neighborhood', 4], ['artist', 4], ['art', 4], ['pig', 4], ['studio', 3], ['painter', 3], ['magnet', 3], ['materi', 3], ['sculptur', 3], ['project', 3], ['van', 3], ['garbag', 3], ['mountain', 2], ['translat', 2], ['mine', 2], ['steel', 2], ['recycl', 2], ['lace', 2], ['york', 2], ['aunti', 2], ['stimul', 2], ['heart', 2], ['hall', 2], ['staircas', 2], ['wall', 2], ['citi', 2], ['design', 2], ['st', 2], ['lift', 2]] \n",
      "\n",
      "Cluster  73  :\n",
      "Top Frequency : [['elect', 12], ['corrupt', 10], ['govern', 10], ['democraci', 9], ['polit', 9], ['vote', 7], ['citizen', 7], ['reform', 5], ['candid', 5], ['bank', 5], ['voter', 4], ['politician', 4], ['presidenti', 4], ['societi', 4], ['financ', 4], ['countri', 4], ['public', 3], ['economi', 3], ['democrat', 3], ['revolut', 3], ['elector', 3], ['ballot', 3], ['issu', 3], ['harmon', 2], ['elit', 2], ['greec', 2], ['parti', 2], ['mexico', 2], ['trust', 2], ['market', 2]] \n",
      "\n",
      "Cluster  74  :\n",
      "Top Frequency : [['sing', 14], ['song', 8], ['music', 6], ['guitar', 3], ['mytholog', 3], ['singer', 3], ['steve', 3], ['stutter', 3], ['ok', 3], ['perform', 3], ['eye', 2], ['dream', 2], ['feel', 2], ['em', 2], ['blindfold', 2], ['nervous', 2], ['voic', 2], ['mix', 2], ['vamp', 2], ['folk', 2], ['banjo', 2], ['god', 2], ['speech', 2], ['melodi', 2], ['video', 2], ['star', 2], ['laughter', 2], ['rick', 2], ['affront', 1], ['peanut', 1]] \n",
      "\n",
      "Cluster  75  :\n",
      "Top Frequency : [['costum', 3], ['wear', 3], ['gold', 3], ['armor', 2], ['media', 2], ['cardboard', 2], ['suit', 2], ['comic', 2], ['spirit', 2], ['eric', 2], ['helmet', 2], ['warrior', 2], ['asbesto', 1], ['ridg', 1], ['lexington', 1], ['shephelah', 1], ['jaw', 1], ['mightiest', 1], ['infinit', 1], ['crisi', 1], ['ordinari', 1], ['mountain', 1], ['slinger', 1], ['g', 1], ['jewish', 1], ['girl', 1], ['circumst', 1], ['joburg', 1], ['danger', 1], ['women', 1]] \n",
      "\n"
     ]
    }
   ],
   "source": [
    "from collections import Counter\n",
    "\n",
    "cluster_index = 0\n",
    "for cluster in clusters_train:\n",
    "    # Cluster contains a list of index of new_SparseVec_train\n",
    "    \n",
    "    cluster_tfidf = []\n",
    "    cluster_words = [] \n",
    "    for sparseVec_index in cluster:\n",
    "        word_vec = covert_to_word_vector(new_SparseVec_train[sparseVec_index], new_dict_train)\n",
    "        for tup in word_vec: \n",
    "            if tup not in cluster_tfidf:\n",
    "                cluster_tfidf.append(tup)\n",
    "            cluster_words.append(tup[0])\n",
    "\n",
    "    cluster_tfidf.sort(key = lambda x: x[1], reverse=True)\n",
    "    \n",
    "    cluster_words = [[word,cluster_words.count(word)] for word in set(cluster_words)]\n",
    "    cluster_words.sort(key = lambda x: x[1], reverse=True)\n",
    "    \n",
    "    print(\"Cluster \", cluster_index,\" :\")\n",
    "    #print(\"Top TF-IDF Weighted Words :\", cluster_tfidf[:30], '\\n')\n",
    "    print(\"Top Frequency :\", cluster_words[:30], '\\n')\n",
    "    cluster_index += 1 \n"
   ]
  },
  {
   "cell_type": "markdown",
   "metadata": {},
   "source": [
    "# 2.1.4 Document Classification "
   ]
  },
  {
   "cell_type": "markdown",
   "metadata": {},
   "source": [
    "## 2.1.4.1 Classifying Train Data"
   ]
  },
  {
   "cell_type": "markdown",
   "metadata": {},
   "source": [
    "### Creating a Labelled Dictionary for Naive Bayes Classifier "
   ]
  },
  {
   "cell_type": "code",
   "execution_count": 71,
   "metadata": {},
   "outputs": [],
   "source": [
    "all_labeled_data = []\n",
    "\n",
    "cluster_index = 0\n",
    "for cluster in clusters_train:\n",
    "    cluster_dict = {}\n",
    "    for sparseVec_index in cluster:\n",
    "        for tup in new_SparseVec_train[sparseVec_index]: \n",
    "            if tup[0] not in cluster_dict.keys():\n",
    "                cluster_dict[tup[0]] = 1 \n",
    "    \n",
    "    cluster_name = 'Topic ' + str(cluster_index)\n",
    "    all_labeled_data.append((cluster_dict, cluster_name))\n",
    "    \n",
    "    cluster_index += 1"
   ]
  },
  {
   "cell_type": "markdown",
   "metadata": {},
   "source": [
    "### Creating Naive Bayes Classifier "
   ]
  },
  {
   "cell_type": "code",
   "execution_count": 72,
   "metadata": {},
   "outputs": [],
   "source": [
    "classifier = nltk.NaiveBayesClassifier.train(all_labeled_data)"
   ]
  },
  {
   "cell_type": "code",
   "execution_count": null,
   "metadata": {},
   "outputs": [],
   "source": [
    "text_dict = {}\n",
    "\n",
    "for tup in new_SparseVec_train[3]:  \n",
    "    if tup[0] not in text_dict.keys():\n",
    "        text_dict[tup[0]] = 1\n"
   ]
  },
  {
   "cell_type": "code",
   "execution_count": 197,
   "metadata": {},
   "outputs": [
    {
     "name": "stdout",
     "output_type": "stream",
     "text": [
      "Topic 0\n"
     ]
    }
   ],
   "source": [
    "print(classifier.classify(text_dict))"
   ]
  },
  {
   "cell_type": "code",
   "execution_count": 239,
   "metadata": {},
   "outputs": [
    {
     "name": "stdout",
     "output_type": "stream",
     "text": [
      "['he', 'hereh.', 'eh', 'h', 'heh', 'e', 'heh']\n"
     ]
    }
   ],
   "source": [
    "# Transcript to BOW\n",
    "def get_result(transcript):\n",
    "    print(transcript.split())\n",
    "    #dict_train.doc2bow(doc)\n",
    "\n",
    "get_result(\"he hereh. eh h heh e heh \")"
   ]
  },
  {
   "cell_type": "markdown",
   "metadata": {},
   "source": [
    "## 2.1.4.2 Classifying Test Data"
   ]
  },
  {
   "cell_type": "markdown",
   "metadata": {},
   "source": [
    "#### Preparing Training Corpus and Pre-Processing Training Data"
   ]
  },
  {
   "cell_type": "code",
   "execution_count": 73,
   "metadata": {},
   "outputs": [],
   "source": [
    "bowVec_test = [new_dict_train.doc2bow(doc) for doc in testData_processed]\n",
    "tfidfModel_test = gensim.models.TfidfModel(bowVec_test) \n",
    "SparseVec_test = [tfidfModel_test[vec] for vec in bowVec_test] "
   ]
  },
  {
   "cell_type": "code",
   "execution_count": 75,
   "metadata": {},
   "outputs": [],
   "source": [
    "new_SparseVec_test = Extract_Doc_Top_N_Tfidf_Words(SparseVec_test, 50) \n",
    "\n",
    "# Convert documents into dict representation.\n",
    "testData_as_dict = [{id:1 for (id, tf_value) in vec} for vec in SparseVec_test]"
   ]
  },
  {
   "cell_type": "code",
   "execution_count": 76,
   "metadata": {
    "scrolled": false
   },
   "outputs": [
    {
     "name": "stdout",
     "output_type": "stream",
     "text": [
      "transcript_0.txt --> Topic 5\n",
      "transcript_10.txt --> Topic 8\n",
      "transcript_1000.txt --> Topic 16\n",
      "transcript_1002.txt --> Topic 7\n",
      "transcript_1008.txt --> Topic 8\n",
      "transcript_1012.txt --> Topic 21\n",
      "transcript_1025.txt --> Topic 21\n",
      "transcript_1026.txt --> Topic 8\n",
      "transcript_1034.txt --> Topic 7\n",
      "transcript_1039.txt --> Topic 7\n",
      "transcript_1041.txt --> Topic 33\n",
      "transcript_1046.txt --> Topic 8\n",
      "transcript_1048.txt --> Topic 33\n",
      "transcript_1050.txt --> Topic 33\n",
      "transcript_1052.txt --> Topic 5\n",
      "transcript_1055.txt --> Topic 8\n",
      "transcript_106.txt --> Topic 7\n",
      "transcript_1060.txt --> Topic 7\n",
      "transcript_1062.txt --> Topic 5\n",
      "transcript_1065.txt --> Topic 8\n",
      "transcript_1075.txt --> Topic 8\n",
      "transcript_1077.txt --> Topic 8\n",
      "transcript_1092.txt --> Topic 1\n",
      "transcript_110.txt --> Topic 33\n",
      "transcript_1100.txt --> Topic 8\n",
      "transcript_1102.txt --> Topic 7\n",
      "transcript_1108.txt --> Topic 7\n",
      "transcript_1114.txt --> Topic 5\n",
      "transcript_1115.txt --> Topic 8\n",
      "transcript_1116.txt --> Topic 5\n",
      "transcript_1118.txt --> Topic 32\n",
      "transcript_1122.txt --> Topic 7\n",
      "transcript_1126.txt --> Topic 8\n",
      "transcript_1129.txt --> Topic 7\n",
      "transcript_1133.txt --> Topic 69\n",
      "transcript_1135.txt --> Topic 8\n",
      "transcript_1137.txt --> Topic 21\n",
      "transcript_1142.txt --> Topic 16\n",
      "transcript_1143.txt --> Topic 33\n",
      "transcript_1148.txt --> Topic 8\n",
      "transcript_1150.txt --> Topic 8\n",
      "transcript_1151.txt --> Topic 8\n",
      "transcript_1158.txt --> Topic 8\n",
      "transcript_1160.txt --> Topic 8\n",
      "transcript_1168.txt --> Topic 5\n",
      "transcript_117.txt --> Topic 7\n",
      "transcript_1183.txt --> Topic 8\n",
      "transcript_1185.txt --> Topic 8\n",
      "transcript_1189.txt --> Topic 8\n",
      "transcript_119.txt --> Topic 33\n",
      "transcript_1194.txt --> Topic 8\n",
      "transcript_1197.txt --> Topic 8\n",
      "transcript_1200.txt --> Topic 8\n",
      "transcript_1214.txt --> Topic 33\n",
      "transcript_1241.txt --> Topic 5\n",
      "transcript_1244.txt --> Topic 5\n",
      "transcript_1246.txt --> Topic 8\n",
      "transcript_1248.txt --> Topic 8\n",
      "transcript_1249.txt --> Topic 8\n",
      "transcript_1251.txt --> Topic 7\n",
      "transcript_1256.txt --> Topic 33\n",
      "transcript_1257.txt --> Topic 35\n",
      "transcript_1259.txt --> Topic 8\n",
      "transcript_1265.txt --> Topic 8\n",
      "transcript_1266.txt --> Topic 33\n",
      "transcript_1271.txt --> Topic 5\n",
      "transcript_1275.txt --> Topic 69\n",
      "transcript_128.txt --> Topic 33\n",
      "transcript_1282.txt --> Topic 7\n",
      "transcript_1293.txt --> Topic 33\n",
      "transcript_1294.txt --> Topic 8\n",
      "transcript_1296.txt --> Topic 8\n",
      "transcript_130.txt --> Topic 8\n",
      "transcript_1300.txt --> Topic 7\n",
      "transcript_1317.txt --> Topic 7\n",
      "transcript_1318.txt --> Topic 8\n",
      "transcript_1321.txt --> Topic 35\n",
      "transcript_1325.txt --> Topic 5\n",
      "transcript_1329.txt --> Topic 5\n",
      "transcript_1333.txt --> Topic 7\n",
      "transcript_1350.txt --> Topic 21\n",
      "transcript_1359.txt --> Topic 8\n",
      "transcript_1366.txt --> Topic 16\n",
      "transcript_1371.txt --> Topic 8\n",
      "transcript_1380.txt --> Topic 8\n",
      "transcript_1388.txt --> Topic 33\n",
      "transcript_1390.txt --> Topic 7\n",
      "transcript_1391.txt --> Topic 7\n",
      "transcript_1394.txt --> Topic 33\n",
      "transcript_14.txt --> Topic 8\n",
      "transcript_1401.txt --> Topic 7\n",
      "transcript_1402.txt --> Topic 33\n",
      "transcript_1403.txt --> Topic 8\n",
      "transcript_1409.txt --> Topic 8\n",
      "transcript_1412.txt --> Topic 33\n",
      "transcript_143.txt --> Topic 21\n",
      "transcript_1435.txt --> Topic 33\n",
      "transcript_1437.txt --> Topic 8\n",
      "transcript_1444.txt --> Topic 8\n",
      "transcript_1447.txt --> Topic 33\n",
      "transcript_1448.txt --> Topic 35\n",
      "transcript_1453.txt --> Topic 7\n",
      "transcript_1455.txt --> Topic 8\n",
      "transcript_1456.txt --> Topic 7\n",
      "transcript_1462.txt --> Topic 7\n",
      "transcript_1493.txt --> Topic 8\n",
      "transcript_1498.txt --> Topic 8\n",
      "transcript_1503.txt --> Topic 8\n",
      "transcript_1508.txt --> Topic 8\n",
      "transcript_1509.txt --> Topic 7\n",
      "transcript_1510.txt --> Topic 33\n",
      "transcript_1514.txt --> Topic 7\n",
      "transcript_1518.txt --> Topic 8\n",
      "transcript_1520.txt --> Topic 8\n",
      "transcript_1522.txt --> Topic 7\n",
      "transcript_1526.txt --> Topic 8\n",
      "transcript_1527.txt --> Topic 8\n",
      "transcript_1534.txt --> Topic 8\n",
      "transcript_1536.txt --> Topic 8\n",
      "transcript_1549.txt --> Topic 35\n",
      "transcript_1559.txt --> Topic 35\n",
      "transcript_1572.txt --> Topic 7\n",
      "transcript_1576.txt --> Topic 33\n",
      "transcript_1578.txt --> Topic 33\n",
      "transcript_1585.txt --> Topic 5\n",
      "transcript_1594.txt --> Topic 5\n",
      "transcript_161.txt --> Topic 8\n",
      "transcript_1612.txt --> Topic 32\n",
      "transcript_1613.txt --> Topic 35\n",
      "transcript_1614.txt --> Topic 5\n",
      "transcript_162.txt --> Topic 7\n",
      "transcript_163.txt --> Topic 21\n",
      "transcript_1631.txt --> Topic 69\n",
      "transcript_1637.txt --> Topic 7\n",
      "transcript_164.txt --> Topic 5\n",
      "transcript_1647.txt --> Topic 8\n",
      "transcript_1652.txt --> Topic 7\n",
      "transcript_1653.txt --> Topic 33\n",
      "transcript_1657.txt --> Topic 7\n",
      "transcript_1666.txt --> Topic 33\n",
      "transcript_1671.txt --> Topic 5\n",
      "transcript_1691.txt --> Topic 5\n",
      "transcript_1697.txt --> Topic 5\n",
      "transcript_1700.txt --> Topic 5\n",
      "transcript_1704.txt --> Topic 33\n",
      "transcript_1705.txt --> Topic 5\n",
      "transcript_1715.txt --> Topic 8\n",
      "transcript_1723.txt --> Topic 35\n",
      "transcript_1727.txt --> Topic 33\n",
      "transcript_1733.txt --> Topic 33\n",
      "transcript_1738.txt --> Topic 69\n",
      "transcript_1746.txt --> Topic 8\n",
      "transcript_175.txt --> Topic 35\n",
      "transcript_1751.txt --> Topic 8\n",
      "transcript_1757.txt --> Topic 7\n",
      "transcript_1768.txt --> Topic 5\n",
      "transcript_1771.txt --> Topic 8\n",
      "transcript_1774.txt --> Topic 8\n",
      "transcript_1775.txt --> Topic 8\n",
      "transcript_1777.txt --> Topic 5\n",
      "transcript_1778.txt --> Topic 5\n",
      "transcript_1785.txt --> Topic 8\n",
      "transcript_1797.txt --> Topic 8\n",
      "transcript_180.txt --> Topic 8\n",
      "transcript_1802.txt --> Topic 5\n",
      "transcript_1805.txt --> Topic 7\n",
      "transcript_1807.txt --> Topic 5\n",
      "transcript_1811.txt --> Topic 8\n",
      "transcript_1812.txt --> Topic 8\n",
      "transcript_1815.txt --> Topic 33\n",
      "transcript_1820.txt --> Topic 7\n",
      "transcript_1824.txt --> Topic 8\n",
      "transcript_1831.txt --> Topic 8\n",
      "transcript_1834.txt --> Topic 5\n",
      "transcript_1836.txt --> Topic 33\n",
      "transcript_1839.txt --> Topic 8\n",
      "transcript_184.txt --> Topic 8\n",
      "transcript_1842.txt --> Topic 8\n",
      "transcript_1843.txt --> Topic 33\n",
      "transcript_1845.txt --> Topic 33\n",
      "transcript_1851.txt --> Topic 21\n",
      "transcript_1852.txt --> Topic 21\n",
      "transcript_1859.txt --> Topic 35\n",
      "transcript_1860.txt --> Topic 35\n",
      "transcript_1866.txt --> Topic 8\n",
      "transcript_1871.txt --> Topic 8\n",
      "transcript_1874.txt --> Topic 5\n",
      "transcript_1887.txt --> Topic 8\n",
      "transcript_1891.txt --> Topic 5\n",
      "transcript_1896.txt --> Topic 5\n",
      "transcript_1898.txt --> Topic 5\n",
      "transcript_19.txt --> Topic 8\n",
      "transcript_1905.txt --> Topic 33\n",
      "transcript_191.txt --> Topic 21\n",
      "transcript_1912.txt --> Topic 21\n",
      "transcript_1915.txt --> Topic 8\n",
      "transcript_1916.txt --> Topic 69\n",
      "transcript_1920.txt --> Topic 33\n",
      "transcript_193.txt --> Topic 8\n",
      "transcript_1930.txt --> Topic 21\n",
      "transcript_1936.txt --> Topic 21\n",
      "transcript_1937.txt --> Topic 33\n",
      "transcript_1938.txt --> Topic 8\n",
      "transcript_195.txt --> Topic 8\n",
      "transcript_1958.txt --> Topic 5\n",
      "transcript_1980.txt --> Topic 8\n",
      "transcript_1997.txt --> Topic 7\n",
      "transcript_1998.txt --> Topic 5\n",
      "transcript_2003.txt --> Topic 7\n",
      "transcript_2004.txt --> Topic 8\n",
      "transcript_2008.txt --> Topic 8\n",
      "transcript_201.txt --> Topic 7\n",
      "transcript_2015.txt --> Topic 5\n",
      "transcript_2016.txt --> Topic 33\n",
      "transcript_2018.txt --> Topic 8\n",
      "transcript_2030.txt --> Topic 5\n",
      "transcript_2037.txt --> Topic 8\n",
      "transcript_2039.txt --> Topic 8\n",
      "transcript_2041.txt --> Topic 5\n",
      "transcript_2050.txt --> Topic 33\n",
      "transcript_2053.txt --> Topic 5\n",
      "transcript_2057.txt --> Topic 33\n",
      "transcript_2058.txt --> Topic 8\n",
      "transcript_2065.txt --> Topic 8\n",
      "transcript_2066.txt --> Topic 8\n",
      "transcript_2070.txt --> Topic 7\n",
      "transcript_2080.txt --> Topic 8\n",
      "transcript_2083.txt --> Topic 8\n",
      "transcript_2088.txt --> Topic 69\n",
      "transcript_2095.txt --> Topic 8\n",
      "transcript_2097.txt --> Topic 69\n",
      "transcript_2106.txt --> Topic 5\n",
      "transcript_2108.txt --> Topic 7\n",
      "transcript_2109.txt --> Topic 7\n",
      "transcript_211.txt --> Topic 33\n",
      "transcript_2111.txt --> Topic 8\n",
      "transcript_2113.txt --> Topic 7\n",
      "transcript_2115.txt --> Topic 8\n",
      "transcript_2120.txt --> Topic 8\n",
      "transcript_2121.txt --> Topic 5\n",
      "transcript_2129.txt --> Topic 8\n",
      "transcript_2131.txt --> Topic 8\n",
      "transcript_2141.txt --> Topic 35\n",
      "transcript_2143.txt --> Topic 7\n",
      "transcript_2144.txt --> Topic 33\n",
      "transcript_2153.txt --> Topic 7\n",
      "transcript_2155.txt --> Topic 5\n",
      "transcript_2159.txt --> Topic 5\n",
      "transcript_216.txt --> Topic 8\n",
      "transcript_2168.txt --> Topic 8\n",
      "transcript_2174.txt --> Topic 5\n",
      "transcript_2178.txt --> Topic 8\n",
      "transcript_2180.txt --> Topic 69\n",
      "transcript_2181.txt --> Topic 5\n",
      "transcript_2186.txt --> Topic 69\n",
      "transcript_2192.txt --> Topic 5\n",
      "transcript_2193.txt --> Topic 33\n"
     ]
    },
    {
     "name": "stdout",
     "output_type": "stream",
     "text": [
      "transcript_2194.txt --> Topic 5\n",
      "transcript_2197.txt --> Topic 5\n",
      "transcript_2200.txt --> Topic 5\n",
      "transcript_2201.txt --> Topic 8\n",
      "transcript_2202.txt --> Topic 7\n",
      "transcript_2203.txt --> Topic 5\n",
      "transcript_2212.txt --> Topic 8\n",
      "transcript_2215.txt --> Topic 5\n",
      "transcript_2216.txt --> Topic 8\n",
      "transcript_2217.txt --> Topic 8\n",
      "transcript_2218.txt --> Topic 21\n",
      "transcript_2220.txt --> Topic 7\n",
      "transcript_2223.txt --> Topic 32\n",
      "transcript_2225.txt --> Topic 7\n",
      "transcript_2260.txt --> Topic 8\n",
      "transcript_2265.txt --> Topic 5\n",
      "transcript_2266.txt --> Topic 5\n",
      "transcript_2268.txt --> Topic 69\n",
      "transcript_2274.txt --> Topic 3\n",
      "transcript_2283.txt --> Topic 8\n",
      "transcript_2284.txt --> Topic 5\n",
      "transcript_2291.txt --> Topic 5\n",
      "transcript_2292.txt --> Topic 7\n",
      "transcript_2293.txt --> Topic 33\n",
      "transcript_2295.txt --> Topic 8\n",
      "transcript_2297.txt --> Topic 5\n",
      "transcript_2300.txt --> Topic 7\n",
      "transcript_2309.txt --> Topic 8\n",
      "transcript_2310.txt --> Topic 5\n",
      "transcript_2323.txt --> Topic 8\n",
      "transcript_2328.txt --> Topic 0\n",
      "transcript_233.txt --> Topic 7\n",
      "transcript_2332.txt --> Topic 8\n",
      "transcript_2344.txt --> Topic 8\n",
      "transcript_2345.txt --> Topic 5\n",
      "transcript_2350.txt --> Topic 8\n",
      "transcript_2356.txt --> Topic 5\n",
      "transcript_236.txt --> Topic 33\n",
      "transcript_2373.txt --> Topic 35\n",
      "transcript_2374.txt --> Topic 7\n",
      "transcript_2379.txt --> Topic 7\n",
      "transcript_2383.txt --> Topic 8\n",
      "transcript_2386.txt --> Topic 33\n",
      "transcript_2395.txt --> Topic 69\n",
      "transcript_2396.txt --> Topic 8\n",
      "transcript_240.txt --> Topic 8\n",
      "transcript_2400.txt --> Topic 8\n",
      "transcript_2402.txt --> Topic 33\n",
      "transcript_2403.txt --> Topic 8\n",
      "transcript_2404.txt --> Topic 5\n",
      "transcript_2405.txt --> Topic 8\n",
      "transcript_2407.txt --> Topic 33\n",
      "transcript_242.txt --> Topic 8\n",
      "transcript_244.txt --> Topic 8\n",
      "transcript_249.txt --> Topic 8\n",
      "transcript_251.txt --> Topic 7\n",
      "transcript_254.txt --> Topic 8\n",
      "transcript_264.txt --> Topic 8\n",
      "transcript_267.txt --> Topic 7\n",
      "transcript_282.txt --> Topic 8\n",
      "transcript_283.txt --> Topic 5\n",
      "transcript_285.txt --> Topic 7\n",
      "transcript_29.txt --> Topic 5\n",
      "transcript_294.txt --> Topic 8\n",
      "transcript_301.txt --> Topic 8\n",
      "transcript_304.txt --> Topic 8\n",
      "transcript_317.txt --> Topic 8\n",
      "transcript_319.txt --> Topic 8\n",
      "transcript_323.txt --> Topic 7\n",
      "transcript_328.txt --> Topic 7\n",
      "transcript_332.txt --> Topic 8\n",
      "transcript_345.txt --> Topic 35\n",
      "transcript_361.txt --> Topic 8\n",
      "transcript_362.txt --> Topic 7\n",
      "transcript_364.txt --> Topic 33\n",
      "transcript_372.txt --> Topic 8\n",
      "transcript_374.txt --> Topic 21\n",
      "transcript_384.txt --> Topic 7\n",
      "transcript_387.txt --> Topic 21\n",
      "transcript_393.txt --> Topic 5\n",
      "transcript_404.txt --> Topic 8\n",
      "transcript_409.txt --> Topic 8\n",
      "transcript_423.txt --> Topic 8\n",
      "transcript_424.txt --> Topic 8\n",
      "transcript_427.txt --> Topic 33\n",
      "transcript_428.txt --> Topic 33\n",
      "transcript_441.txt --> Topic 69\n",
      "transcript_447.txt --> Topic 8\n",
      "transcript_460.txt --> Topic 35\n",
      "transcript_465.txt --> Topic 8\n",
      "transcript_466.txt --> Topic 8\n",
      "transcript_469.txt --> Topic 21\n",
      "transcript_477.txt --> Topic 8\n",
      "transcript_485.txt --> Topic 33\n",
      "transcript_489.txt --> Topic 8\n",
      "transcript_49.txt --> Topic 69\n",
      "transcript_493.txt --> Topic 8\n",
      "transcript_495.txt --> Topic 21\n",
      "transcript_503.txt --> Topic 35\n",
      "transcript_504.txt --> Topic 69\n",
      "transcript_506.txt --> Topic 35\n",
      "transcript_507.txt --> Topic 8\n",
      "transcript_515.txt --> Topic 21\n",
      "transcript_521.txt --> Topic 33\n",
      "transcript_532.txt --> Topic 8\n",
      "transcript_537.txt --> Topic 8\n",
      "transcript_540.txt --> Topic 33\n",
      "transcript_547.txt --> Topic 69\n",
      "transcript_550.txt --> Topic 8\n",
      "transcript_551.txt --> Topic 5\n",
      "transcript_552.txt --> Topic 8\n",
      "transcript_555.txt --> Topic 33\n",
      "transcript_566.txt --> Topic 33\n",
      "transcript_585.txt --> Topic 8\n",
      "transcript_590.txt --> Topic 8\n",
      "transcript_596.txt --> Topic 7\n",
      "transcript_60.txt --> Topic 8\n",
      "transcript_605.txt --> Topic 8\n",
      "transcript_609.txt --> Topic 8\n",
      "transcript_610.txt --> Topic 8\n",
      "transcript_611.txt --> Topic 7\n",
      "transcript_616.txt --> Topic 7\n",
      "transcript_618.txt --> Topic 5\n",
      "transcript_62.txt --> Topic 33\n",
      "transcript_620.txt --> Topic 8\n",
      "transcript_624.txt --> Topic 8\n",
      "transcript_637.txt --> Topic 35\n",
      "transcript_64.txt --> Topic 8\n",
      "transcript_641.txt --> Topic 8\n",
      "transcript_655.txt --> Topic 8\n",
      "transcript_656.txt --> Topic 8\n",
      "transcript_660.txt --> Topic 7\n",
      "transcript_661.txt --> Topic 33\n",
      "transcript_663.txt --> Topic 7\n",
      "transcript_668.txt --> Topic 5\n",
      "transcript_669.txt --> Topic 5\n",
      "transcript_670.txt --> Topic 7\n",
      "transcript_674.txt --> Topic 33\n",
      "transcript_677.txt --> Topic 8\n",
      "transcript_680.txt --> Topic 8\n",
      "transcript_681.txt --> Topic 8\n",
      "transcript_685.txt --> Topic 8\n",
      "transcript_686.txt --> Topic 69\n",
      "transcript_687.txt --> Topic 5\n",
      "transcript_69.txt --> Topic 8\n",
      "transcript_691.txt --> Topic 69\n",
      "transcript_698.txt --> Topic 33\n",
      "transcript_702.txt --> Topic 8\n",
      "transcript_705.txt --> Topic 8\n",
      "transcript_706.txt --> Topic 8\n",
      "transcript_708.txt --> Topic 8\n",
      "transcript_718.txt --> Topic 7\n",
      "transcript_72.txt --> Topic 8\n",
      "transcript_723.txt --> Topic 8\n",
      "transcript_727.txt --> Topic 8\n",
      "transcript_737.txt --> Topic 8\n",
      "transcript_738.txt --> Topic 33\n",
      "transcript_740.txt --> Topic 8\n",
      "transcript_741.txt --> Topic 7\n",
      "transcript_753.txt --> Topic 8\n",
      "transcript_754.txt --> Topic 8\n",
      "transcript_755.txt --> Topic 7\n",
      "transcript_76.txt --> Topic 35\n",
      "transcript_763.txt --> Topic 5\n",
      "transcript_765.txt --> Topic 8\n",
      "transcript_772.txt --> Topic 8\n",
      "transcript_778.txt --> Topic 8\n",
      "transcript_783.txt --> Topic 5\n",
      "transcript_784.txt --> Topic 8\n",
      "transcript_786.txt --> Topic 5\n",
      "transcript_794.txt --> Topic 8\n",
      "transcript_80.txt --> Topic 8\n",
      "transcript_810.txt --> Topic 8\n",
      "transcript_816.txt --> Topic 7\n",
      "transcript_818.txt --> Topic 8\n",
      "transcript_82.txt --> Topic 8\n",
      "transcript_820.txt --> Topic 35\n",
      "transcript_823.txt --> Topic 8\n",
      "transcript_824.txt --> Topic 8\n",
      "transcript_831.txt --> Topic 8\n",
      "transcript_836.txt --> Topic 8\n",
      "transcript_840.txt --> Topic 8\n",
      "transcript_850.txt --> Topic 7\n",
      "transcript_859.txt --> Topic 35\n",
      "transcript_86.txt --> Topic 7\n",
      "transcript_861.txt --> Topic 35\n",
      "transcript_871.txt --> Topic 8\n",
      "transcript_876.txt --> Topic 8\n",
      "transcript_883.txt --> Topic 7\n",
      "transcript_886.txt --> Topic 8\n",
      "transcript_889.txt --> Topic 35\n",
      "transcript_890.txt --> Topic 8\n",
      "transcript_898.txt --> Topic 8\n",
      "transcript_9.txt --> Topic 7\n",
      "transcript_903.txt --> Topic 8\n",
      "transcript_91.txt --> Topic 7\n",
      "transcript_924.txt --> Topic 5\n",
      "transcript_932.txt --> Topic 8\n",
      "transcript_936.txt --> Topic 8\n",
      "transcript_939.txt --> Topic 16\n",
      "transcript_940.txt --> Topic 8\n",
      "transcript_947.txt --> Topic 8\n",
      "transcript_957.txt --> Topic 8\n",
      "transcript_961.txt --> Topic 33\n",
      "transcript_967.txt --> Topic 5\n",
      "transcript_986.txt --> Topic 8\n",
      "transcript_989.txt --> Topic 8\n",
      "transcript_990.txt --> Topic 5\n",
      "transcript_994.txt --> Topic 33\n",
      "transcript_996.txt --> Topic 8\n",
      "transcript_998.txt --> Topic 21\n"
     ]
    }
   ],
   "source": [
    "#For each document, classify and print the label.\n",
    "for i in range(len(test_fids)):\n",
    "    print(test_fids[i], '-->', classifier.classify(testData_as_dict[i]))"
   ]
  }
 ],
 "metadata": {
  "kernelspec": {
   "display_name": "Python 3",
   "language": "python",
   "name": "python3"
  },
  "language_info": {
   "codemirror_mode": {
    "name": "ipython",
    "version": 3
   },
   "file_extension": ".py",
   "mimetype": "text/x-python",
   "name": "python",
   "nbconvert_exporter": "python",
   "pygments_lexer": "ipython3",
   "version": "3.7.4"
  }
 },
 "nbformat": 4,
 "nbformat_minor": 2
}

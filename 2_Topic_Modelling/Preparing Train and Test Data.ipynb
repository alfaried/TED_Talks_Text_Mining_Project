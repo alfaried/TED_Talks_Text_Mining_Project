{
 "cells": [
  {
   "cell_type": "markdown",
   "metadata": {},
   "source": [
    "# Creating Train and Test Dataset and Transcripts (.txt)"
   ]
  },
  {
   "cell_type": "code",
   "execution_count": 159,
   "metadata": {},
   "outputs": [],
   "source": [
    "import pandas as pd\n",
    "import copy \n",
    "from sklearn.model_selection import train_test_split\n",
    "\n",
    "# Load cleaned dataset in\n",
    "original_df = pd.read_csv(\"../Processed_Dataset/cleaned_dataset.csv\", keep_default_na=False, na_values=[\"\"])"
   ]
  },
  {
   "cell_type": "code",
   "execution_count": null,
   "metadata": {},
   "outputs": [],
   "source": [
    "# Spliting into Train and Test Data (DO NOT RUN) \n",
    "train_df,test_df = train_test_split(original_df,test_size=0.2)"
   ]
  },
  {
   "cell_type": "code",
   "execution_count": null,
   "metadata": {},
   "outputs": [],
   "source": [
    "# Creating Train and Test csv files (DO NOT RUN)\n",
    "train_df.to_csv(\"./TrainTest_Dataset/train_dataset.csv\", index = False)\n",
    "test_df.to_csv(\"./TrainTest_Dataset/test_dataset.csv\", index = False)"
   ]
  },
  {
   "cell_type": "code",
   "execution_count": null,
   "metadata": {},
   "outputs": [],
   "source": [
    "# Populating Train and Test Folder (DO NOT RUN)\n",
    "row_index = 0\n",
    "for useless, transcript in train_df[\"transcript\"].iteritems():\n",
    "    file = open(\"./TrainTest_Transcripts/Train/transcript_\" + str(train_df['id'].values[row_index]) + \".txt\",\"w\")\n",
    "    file.write(transcript) \n",
    "    file.close() \n",
    "    row_index += 1 \n",
    "    \n",
    "row_index = 0 \n",
    "for useless, transcript in test_df[\"transcript\"].iteritems():\n",
    "    file = open(\"./TrainTest_Transcripts/Test/transcript_\" + str(test_df['id'].values[row_index]) + \".txt\",\"w\")\n",
    "    file.write(transcript) \n",
    "    file.close() \n",
    "    row_index += 1"
   ]
  }
 ],
 "metadata": {
  "kernelspec": {
   "display_name": "Python 3",
   "language": "python",
   "name": "python3"
  },
  "language_info": {
   "codemirror_mode": {
    "name": "ipython",
    "version": 3
   },
   "file_extension": ".py",
   "mimetype": "text/x-python",
   "name": "python",
   "nbconvert_exporter": "python",
   "pygments_lexer": "ipython3",
   "version": "3.7.4"
  }
 },
 "nbformat": 4,
 "nbformat_minor": 2
}
